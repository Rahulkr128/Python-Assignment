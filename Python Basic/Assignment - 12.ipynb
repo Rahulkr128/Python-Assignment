{
 "cells": [
  {
   "cell_type": "markdown",
   "id": "c0be00e8",
   "metadata": {},
   "source": [
    "# 1. In what modes should the PdfFileReader() and PdfFileWriter() File objects will be opened?"
   ]
  },
  {
   "cell_type": "markdown",
   "id": "ea3bb7a2",
   "metadata": {},
   "source": [
    "<pre>The PdfFileReader() and PdfFileWriter() File objects opens in Read Binary Format & Write Binary Format"
   ]
  },
  {
   "cell_type": "markdown",
   "id": "dc1f8277",
   "metadata": {},
   "source": [
    "# 2. From a PdfFileReader object, how do you get a Page object for page 5?"
   ]
  },
  {
   "cell_type": "markdown",
   "id": "86d36f4c",
   "metadata": {},
   "source": [
    "<pre>\n",
    "with the help of getPage we will able to read the page no 5 directly.\n",
    "\n",
    "Example:\n",
    "    \n",
    "    pdfFileObj = open('example.pdf', 'rb')\n",
    "    pdfReader = PyPDF2.PdfFileReader(pdfFileObj)\n",
    "    pageObj = pdfReader.getPage(5)\n",
    "    \n",
    "                    "
   ]
  },
  {
   "cell_type": "markdown",
   "id": "e4ac0342",
   "metadata": {},
   "source": [
    "# 3. What PdfFileReader variable storest he number of pages in the PDF document?"
   ]
  },
  {
   "cell_type": "markdown",
   "id": "ebe7d781",
   "metadata": {},
   "source": [
    "<pre><b>PyPDF2.PdfFileReader(file_object).numPages</b>\n",
    "\n",
    "    Stores the number of pages in the integer form "
   ]
  },
  {
   "cell_type": "markdown",
   "id": "841b375f",
   "metadata": {},
   "source": [
    "# 4. If a PdfFileReader object’s PDF is encrypted with the password swordfish, what must you do before you can obtain Page objects from it?"
   ]
  },
  {
   "cell_type": "markdown",
   "id": "54cd6594",
   "metadata": {},
   "source": [
    "<pre>\n",
    "if the files are encrypted we need to decrypt it.\n",
    "ex:\n",
    "    file.decrypt('swordfish')"
   ]
  },
  {
   "cell_type": "markdown",
   "id": "ebd9b474",
   "metadata": {},
   "source": [
    "# 5. What methods do you use to rotate a page?"
   ]
  },
  {
   "cell_type": "markdown",
   "id": "e9ba02c2",
   "metadata": {},
   "source": [
    "we can use rotateClockwise(90) to rotate the page"
   ]
  },
  {
   "cell_type": "markdown",
   "id": "e03bf1f6",
   "metadata": {},
   "source": [
    "# 6. What is the difference between a Run object and a Paragraph object?"
   ]
  },
  {
   "cell_type": "markdown",
   "id": "e40e4b07",
   "metadata": {},
   "source": [
    "<pre>\n",
    "<b>Run Object :</b> It has font, size, colour, and other stylistic data attached to it.\n",
    "In Word, a style is a collection of these characteristics. \n",
    "A Run object is a string of text that has the same style throughout.\n",
    "A new run object is required if the text style changes.\n",
    "\n",
    "<b>Paragraph Object :</b>The Document object holds a list of paragraph objects for the document's paragraphs.\n",
    "When the user presses ENTER or RETURN in a word document, a new paragraph begins.\n",
    "A list of one or more Run objects is contained in each of these paragraph objects.\n",
    "\n"
   ]
  },
  {
   "cell_type": "markdown",
   "id": "5c94dafc",
   "metadata": {},
   "source": [
    "# 7. How do you obtain a list of Paragraph objects for a Document object that’s stored in a variable named doc?"
   ]
  },
  {
   "cell_type": "code",
   "execution_count": 4,
   "id": "99862c7a",
   "metadata": {},
   "outputs": [
    {
     "data": {
      "text/plain": [
       "[<docx.text.paragraph.Paragraph at 0x1cfdeea9940>,\n",
       " <docx.text.paragraph.Paragraph at 0x1cfdeea97c0>,\n",
       " <docx.text.paragraph.Paragraph at 0x1cfdeea97f0>,\n",
       " <docx.text.paragraph.Paragraph at 0x1cfdeea9850>,\n",
       " <docx.text.paragraph.Paragraph at 0x1cfdeea98b0>,\n",
       " <docx.text.paragraph.Paragraph at 0x1cfdeea99a0>,\n",
       " <docx.text.paragraph.Paragraph at 0x1cfdeea9970>,\n",
       " <docx.text.paragraph.Paragraph at 0x1cfdeea9a60>,\n",
       " <docx.text.paragraph.Paragraph at 0x1cfdeea9a00>,\n",
       " <docx.text.paragraph.Paragraph at 0x1cfdeea9ac0>,\n",
       " <docx.text.paragraph.Paragraph at 0x1cfdeea9af0>]"
      ]
     },
     "execution_count": 4,
     "metadata": {},
     "output_type": "execute_result"
    }
   ],
   "source": [
    "\n",
    "import docx\n",
    "doc=docx.Document('Programming_Assingment10.docx')\n",
    "doc.paragraphs # This returns the list of Paragraph objects in a word document"
   ]
  },
  {
   "cell_type": "markdown",
   "id": "ae7eabe8",
   "metadata": {},
   "source": [
    "# 8. What type of object has bold, underline, italic, strike, and outline variables?"
   ]
  },
  {
   "cell_type": "markdown",
   "id": "b60de3e4",
   "metadata": {},
   "source": [
    "<pre>The <b>run object</b> has bold, underline, italic, strike, and outline variables."
   ]
  },
  {
   "cell_type": "markdown",
   "id": "472be7d8",
   "metadata": {},
   "source": [
    "# 9. What is the difference between False, True, and None for the bold variable?"
   ]
  },
  {
   "cell_type": "markdown",
   "id": "6bc44f80",
   "metadata": {},
   "source": [
    "<pre>\n",
    "If the Bold variable is set to <b>False</b>, the variable is always disabled.\n",
    "If the Bold variable is set to <b>True</b>, the variable is always enabled, no matter what other styles are applied to the run.\n",
    "If the Bold variable is set to <b>None</b>, defaults to whatever the run’s style is set to."
   ]
  },
  {
   "cell_type": "markdown",
   "id": "74c4837a",
   "metadata": {},
   "source": [
    "# 10. How do you create a Document object for a new Word document?"
   ]
  },
  {
   "cell_type": "code",
   "execution_count": 7,
   "id": "cffb5d9e",
   "metadata": {},
   "outputs": [],
   "source": [
    "import docx\n",
    "new_doc = docx.Document()\n",
    "new_doc.save('sample_test.docx') \n",
    "\n",
    "# this creates a blank new word document sample.docx in the current directory."
   ]
  },
  {
   "cell_type": "markdown",
   "id": "6e688984",
   "metadata": {},
   "source": [
    "<h3>Q11</h3>\n",
    "<b>How do you add a paragraph with the text &#39;Hello, there!&#39; to a Document object stored in a\n",
    "variable named doc?"
   ]
  },
  {
   "cell_type": "code",
   "execution_count": 6,
   "id": "549cce6f",
   "metadata": {},
   "outputs": [],
   "source": [
    "import docx\n",
    "new_doc = docx.Document()\n",
    "new_doc.add_paragraph('Hello There!!! Adding text to docx')\n",
    "new_doc.save('sample_test.docx') "
   ]
  },
  {
   "cell_type": "markdown",
   "id": "1f214cc4",
   "metadata": {},
   "source": [
    "# 12. What integers represent the levels of headings available in Word documents?"
   ]
  },
  {
   "cell_type": "code",
   "execution_count": 8,
   "id": "38917191",
   "metadata": {},
   "outputs": [],
   "source": [
    "import docx\n",
    "new_doc = docx.Document()\n",
    "\n",
    "new_doc.add_heading('Heading Level 1',level=1)\n",
    "new_doc.add_heading('Heading Level 2',level=2)\n",
    "new_doc.add_heading('Heading Level 3',level=3)\n",
    "new_doc.add_heading('Heading Level 4',level=4)\n",
    "new_doc.add_heading('Heading Level 5',level=5)\n",
    "\n",
    "new_doc.save('sample_test.docx') "
   ]
  }
 ],
 "metadata": {
  "kernelspec": {
   "display_name": "Python 3 (ipykernel)",
   "language": "python",
   "name": "python3"
  },
  "language_info": {
   "codemirror_mode": {
    "name": "ipython",
    "version": 3
   },
   "file_extension": ".py",
   "mimetype": "text/x-python",
   "name": "python",
   "nbconvert_exporter": "python",
   "pygments_lexer": "ipython3",
   "version": "3.9.7"
  }
 },
 "nbformat": 4,
 "nbformat_minor": 5
}
