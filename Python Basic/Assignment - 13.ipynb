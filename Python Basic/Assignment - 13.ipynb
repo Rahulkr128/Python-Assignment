{
 "cells": [
  {
   "cell_type": "markdown",
   "id": "37015446",
   "metadata": {},
   "source": [
    "# 1. What advantages do Excel spreadsheets have over CSV spreadsheets?"
   ]
  },
  {
   "cell_type": "markdown",
   "id": "6aca587e",
   "metadata": {},
   "source": [
    "<pre>\n",
    "Excel is more superior when compared with the CSV file format; thus, CSV consumes less amount of file size when the user is importing data; it is a much faster format compared to excel. CSV does not manipulate data and stores it as-is. Excel also allows the user the add-in feature."
   ]
  },
  {
   "cell_type": "markdown",
   "id": "2cd58790",
   "metadata": {},
   "source": [
    "# 2. What do you pass to csv.reader() and csv.writer() to create reader and writer objects?"
   ]
  },
  {
   "cell_type": "markdown",
   "id": "278db5d9",
   "metadata": {},
   "source": [
    "<pre>\n",
    "<b>csv.reader()</b> takes file-path and the dialect to create the reader object \n",
    "<b>csv.writer()</b> take file obj and the dialect to create the writer object"
   ]
  },
  {
   "cell_type": "markdown",
   "id": "d3ba1bc7",
   "metadata": {},
   "source": [
    "# 3. What modes do File objects for reader and writer objects need to be opened in?"
   ]
  },
  {
   "cell_type": "markdown",
   "id": "207e7da3",
   "metadata": {},
   "source": [
    "<pre>\n",
    "<b>csv.reader()</b> file object will be opened in read 'r' mode\n",
    "<b>csv.writer()</b> file object will be opened in write 'w' mode"
   ]
  },
  {
   "cell_type": "markdown",
   "id": "52b216c5",
   "metadata": {},
   "source": [
    "# 4. What method takes a list argument and writes it to a CSV file?"
   ]
  },
  {
   "cell_type": "markdown",
   "id": "bf53a6ba",
   "metadata": {},
   "source": [
    "<pre>\n",
    "writerows() method is used to take a list argument and write it to csv file\n",
    "\n",
    "Example:\n",
    "\n",
    "import csv\n",
    "\n",
    "output = [\n",
    "    ['one','two','three','four']\n",
    "]\n",
    "\n",
    "with open('output.csv','w') as csv_file:\n",
    "    wr = csv.writer(csv_file, dialect='excel')\n",
    "    wr.writerows(output)"
   ]
  },
  {
   "cell_type": "markdown",
   "id": "77acf4d6",
   "metadata": {},
   "source": [
    "# 5. What do the keyword arguments delimiter and line terminator do?"
   ]
  },
  {
   "cell_type": "markdown",
   "id": "3d3e3b91",
   "metadata": {},
   "source": [
    "<pre>\n",
    "The delimiter is the character that appears between cells on a row. By default, the delimiter for a CSV file is a comma.\n",
    "\n",
    "The line terminator is the character that comes at the end of a row. By default, the line terminator is a newline."
   ]
  },
  {
   "cell_type": "markdown",
   "id": "11ac2c19",
   "metadata": {},
   "source": [
    "# 6. What function takes a string of JSON data and returns a Python data structure?"
   ]
  },
  {
   "cell_type": "markdown",
   "id": "2f4ca7ca",
   "metadata": {},
   "source": [
    "json.loads() method return Python data structure of JSON string or data."
   ]
  },
  {
   "cell_type": "markdown",
   "id": "b18bfaea",
   "metadata": {},
   "source": [
    "<h3>Q7</h3>\n",
    "<b>What function takes a Python data structure and returns a string of JSON data?"
   ]
  },
  {
   "cell_type": "markdown",
   "id": "d1236b5a",
   "metadata": {},
   "source": [
    "<pre>\n",
    "json.load() takes a file object and returns the json object.\n",
    "\n",
    "loads() function converts python data structure and returns a string of json data.\n"
   ]
  }
 ],
 "metadata": {
  "kernelspec": {
   "display_name": "Python 3 (ipykernel)",
   "language": "python",
   "name": "python3"
  },
  "language_info": {
   "codemirror_mode": {
    "name": "ipython",
    "version": 3
   },
   "file_extension": ".py",
   "mimetype": "text/x-python",
   "name": "python",
   "nbconvert_exporter": "python",
   "pygments_lexer": "ipython3",
   "version": "3.9.7"
  }
 },
 "nbformat": 4,
 "nbformat_minor": 5
}
