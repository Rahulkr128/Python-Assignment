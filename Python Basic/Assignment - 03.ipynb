{
 "cells": [
  {
   "cell_type": "markdown",
   "metadata": {},
   "source": [
    "1. Why are functions advantageous to have in your programs?"
   ]
  },
  {
   "cell_type": "markdown",
   "metadata": {},
   "source": [
    "<pre>\n",
    "Advantages: \n",
    "\n",
    "1. Duplication of the code is reduced.\n",
    "2. Increase the readability and modularity of the program.\n",
    "3. Modification of the program becomes easier\n",
    "4. Reduces the chances of error."
   ]
  },
  {
   "cell_type": "markdown",
   "metadata": {},
   "source": [
    "# 2. When does the code in a function execute: when the function is defined or when the function is called?\n",
    "    \n"
   ]
  },
  {
   "cell_type": "markdown",
   "metadata": {},
   "source": [
    "\n",
    "The function is executed when the function is called and NOT when the code is defined"
   ]
  },
  {
   "cell_type": "markdown",
   "metadata": {},
   "source": [
    "# 3. What statement creates a function?"
   ]
  },
  {
   "cell_type": "markdown",
   "metadata": {},
   "source": [
    "<pre>\n",
    "def is used to define the function followed by function name\n",
    "Syntax:\n",
    "    def function_name():\n",
    "        body_of_function\n",
    "        \n",
    "For example:\n",
    "    def example():\n",
    "        print('example')"
   ]
  },
  {
   "cell_type": "markdown",
   "metadata": {},
   "source": [
    "# 4. What is the difference between a function and a function call?"
   ]
  },
  {
   "cell_type": "markdown",
   "metadata": {},
   "source": [
    "<pre>\n",
    "<b>Function</b> is a way or precedure to achieve a particular result\n",
    "While\n",
    "<b>Function Call</b> uses the function to execute the block of code present within the function"
   ]
  },
  {
   "cell_type": "markdown",
   "metadata": {},
   "source": [
    "# 5. How many global scopes are there in a Python program? How many local scopes?"
   ]
  },
  {
   "cell_type": "markdown",
   "metadata": {},
   "source": [
    "<pre>\n",
    "The scope of the global variable is within the whole program and can be accessed anywhere inside program\n",
    "\n",
    "\n",
    "The scope of the local variable is limited to the function or any method or loop"
   ]
  },
  {
   "cell_type": "markdown",
   "metadata": {},
   "source": [
    "# 6. What happens to variables in a local scope when the function call returns?"
   ]
  },
  {
   "cell_type": "markdown",
   "metadata": {},
   "source": [
    "<pre>\n",
    "When a function is called, the local variable is temporarily created.\n",
    "\n",
    "As soon as the function returns, the local scope is destroyed and the variable no longer exists.We can no longer access the variable or outside the function"
   ]
  },
  {
   "cell_type": "markdown",
   "metadata": {},
   "source": [
    "# 7. What is the concept of a return value? Is it possible to have a return value in an expression?"
   ]
  },
  {
   "cell_type": "markdown",
   "metadata": {},
   "source": [
    "<pre>\n",
    "The return is a value:\n",
    "    that the function returns results after executing the block of statements (when the function completes the entire execution).\n",
    "    \n",
    "yes, it is possible to return the value through expression\n",
    "    return a*b //return a*b"
   ]
  },
  {
   "cell_type": "markdown",
   "metadata": {},
   "source": [
    "# 8. If a function does not have a return statement, what is the return value of a call to that function?"
   ]
  },
  {
   "cell_type": "markdown",
   "metadata": {},
   "source": [
    "It's of void type and return none by default"
   ]
  },
  {
   "cell_type": "markdown",
   "metadata": {},
   "source": [
    "# 9. How do you make a function variable refer to the global variable?"
   ]
  },
  {
   "cell_type": "markdown",
   "metadata": {},
   "source": [
    "<pre>\n",
    "Variables that are created or defined outside the function is called as the <b>Global Variables</b>\n",
    "Also it can be created with the help of global keyword\n",
    "\n",
    "For Example:"
   ]
  },
  {
   "cell_type": "code",
   "execution_count": 1,
   "metadata": {},
   "outputs": [
    {
     "name": "stdout",
     "output_type": "stream",
     "text": [
      "10\n"
     ]
    }
   ],
   "source": [
    "# Globally Defining the variable\n",
    "x = 10\n",
    "# Defining the function\n",
    "def func():\n",
    "    print(x)\n",
    "# Calling the function\n",
    "func()\n"
   ]
  },
  {
   "cell_type": "markdown",
   "metadata": {},
   "source": [
    "10. What is the data type of None?"
   ]
  },
  {
   "cell_type": "code",
   "execution_count": 2,
   "metadata": {},
   "outputs": [
    {
     "data": {
      "text/plain": [
       "NoneType"
      ]
     },
     "execution_count": 2,
     "metadata": {},
     "output_type": "execute_result"
    }
   ],
   "source": [
    "type(None)"
   ]
  },
  {
   "cell_type": "markdown",
   "metadata": {},
   "source": [
    "11. What does the sentence import areallyourpetsnamederic do?"
   ]
  },
  {
   "cell_type": "markdown",
   "metadata": {},
   "source": [
    "<pre>\n",
    "This is throw error \" ModuleNotFoundError: No module named 'areallyourpetsnamederic' \"\n",
    "\n",
    "But it will import this module when it locally created"
   ]
  },
  {
   "cell_type": "markdown",
   "metadata": {},
   "source": [
    "<h3>Q12</h3>\n",
    "<b> If you had a bacon() feature in a spam module, what would you call it after importing spam?</b>\n",
    "\n",
    "<pre>\n",
    "<br>\n",
    "# Importing the Module\n",
    "    import spam\n",
    "# Calling the Function\n",
    "    spam.bacon()"
   ]
  },
  {
   "cell_type": "markdown",
   "metadata": {},
   "source": [
    "# 13.  What can you do to save a programme from crashing if it encounters an error?\n",
    "\n"
   ]
  },
  {
   "cell_type": "markdown",
   "metadata": {},
   "source": [
    "<pre>\n",
    "\n",
    "Use the concept of Exception Handling i.e. TRY-EXCEPT Block"
   ]
  },
  {
   "cell_type": "markdown",
   "metadata": {},
   "source": [
    "# 14. What is the purpose of the try clause? What is the purpose of the except clause?"
   ]
  },
  {
   "cell_type": "markdown",
   "metadata": {},
   "source": [
    "<b>Try:</b>line of code which can throw error are written within the Try Block\n",
    "\n",
    "<b>Except:</b> this block catches the error thrown by try block"
   ]
  },
  {
   "cell_type": "code",
   "execution_count": null,
   "metadata": {},
   "outputs": [],
   "source": []
  }
 ],
 "metadata": {
  "kernelspec": {
   "display_name": "Python 3 (ipykernel)",
   "language": "python",
   "name": "python3"
  },
  "language_info": {
   "codemirror_mode": {
    "name": "ipython",
    "version": 3
   },
   "file_extension": ".py",
   "mimetype": "text/x-python",
   "name": "python",
   "nbconvert_exporter": "python",
   "pygments_lexer": "ipython3",
   "version": "3.9.7"
  }
 },
 "nbformat": 4,
 "nbformat_minor": 4
}
