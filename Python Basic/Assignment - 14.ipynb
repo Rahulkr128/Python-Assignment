{
 "cells": [
  {
   "cell_type": "markdown",
   "id": "a1ffbbc5",
   "metadata": {},
   "source": [
    "# 1. What does RGBA stand for?"
   ]
  },
  {
   "cell_type": "markdown",
   "id": "bfecdfdc",
   "metadata": {},
   "source": [
    "<pre>\n",
    "The RGBA colour model stands for Red Blue Green and Alpha which is extendion of RGB to include \"alpha,\" which allows the \n",
    "opacity of a colour to be specified."
   ]
  },
  {
   "cell_type": "markdown",
   "id": "94f5dca8",
   "metadata": {},
   "source": [
    "# 2. From the Pillow module, how do you get the RGBA value of any images?"
   ]
  },
  {
   "cell_type": "code",
   "execution_count": 3,
   "id": "77b9baca",
   "metadata": {},
   "outputs": [
    {
     "name": "stdout",
     "output_type": "stream",
     "text": [
      "(105, 162, 192, 255)\n"
     ]
    }
   ],
   "source": [
    "#getdata() is used to get the RGBA value of the image.\n",
    "#example:\n",
    "from PIL import Image\n",
    "\n",
    "image = Image.open('C:\\\\Users\\\\Rahul\\\\Pictures\\\\Images\\\\480.jpg')\n",
    "rgba_img = image.convert('RGBA')\n",
    "rgba = rgba_img.getdata()\n",
    "for i in rgba:\n",
    "    print(i)\n",
    "    break\n"
   ]
  },
  {
   "cell_type": "markdown",
   "id": "e65db3b2",
   "metadata": {},
   "source": [
    "# 3. What is a box tuple, and how does it work?"
   ]
  },
  {
   "cell_type": "markdown",
   "id": "3a4b3dbf",
   "metadata": {},
   "source": [
    "<pre>\n",
    "A box tuple is a tuple which contains x-coordinate, y-coordinate , width and height."
   ]
  },
  {
   "cell_type": "markdown",
   "id": "64e38ab2",
   "metadata": {},
   "source": [
    "# 4. Use your image and load in notebook then, How can you find out the width and height of an Image object?"
   ]
  },
  {
   "cell_type": "code",
   "execution_count": 8,
   "id": "a4ecd7b8",
   "metadata": {},
   "outputs": [
    {
     "name": "stdout",
     "output_type": "stream",
     "text": [
      "The image is of Height & Width: 531 X 413\n"
     ]
    }
   ],
   "source": [
    "from PIL import Image\n",
    "\n",
    "image = Image.open('C:\\\\Users\\\\Rahul\\\\Pictures\\\\Images\\\\480.jpg')\n",
    "\n",
    "print(\"The image is of Height & Width: {} X {}\".format(image.height,image.width))"
   ]
  },
  {
   "cell_type": "markdown",
   "id": "4752bf0a",
   "metadata": {},
   "source": [
    "# 5. What method would you call to get Image object for a 100×100 image, excluding the lower-left quarter of it?"
   ]
  },
  {
   "cell_type": "markdown",
   "id": "49f7944a",
   "metadata": {},
   "source": [
    "<pre>we can use crop() to get the image of required size.\n",
    "example: image.crop((0,100,100,0))"
   ]
  },
  {
   "cell_type": "markdown",
   "id": "7445d260",
   "metadata": {},
   "source": [
    "# 6. After making changes to an Image object, how could you save it as an image file?"
   ]
  },
  {
   "cell_type": "markdown",
   "id": "3bb0bee7",
   "metadata": {},
   "source": [
    "save() method is used to saveas with given image name."
   ]
  },
  {
   "cell_type": "markdown",
   "id": "1c59628e",
   "metadata": {},
   "source": [
    "# 7. What module contains Pillow’s shape-drawing code?"
   ]
  },
  {
   "cell_type": "markdown",
   "id": "3f0ac842",
   "metadata": {},
   "source": [
    "ImageDraw module contains/used for shape drawing."
   ]
  },
  {
   "cell_type": "markdown",
   "id": "02ea4202",
   "metadata": {},
   "source": [
    "# 8. Image objects do not have drawing methods. What kind of object does? How do you get this kind of object?"
   ]
  },
  {
   "cell_type": "markdown",
   "id": "7abf76ea",
   "metadata": {},
   "source": [
    "<pre>They have shape drawing methods like line(), point(), rectangle()\n",
    "ImageDraw.Draw() function can be used."
   ]
  }
 ],
 "metadata": {
  "kernelspec": {
   "display_name": "Python 3 (ipykernel)",
   "language": "python",
   "name": "python3"
  },
  "language_info": {
   "codemirror_mode": {
    "name": "ipython",
    "version": 3
   },
   "file_extension": ".py",
   "mimetype": "text/x-python",
   "name": "python",
   "nbconvert_exporter": "python",
   "pygments_lexer": "ipython3",
   "version": "3.9.7"
  }
 },
 "nbformat": 4,
 "nbformat_minor": 5
}
