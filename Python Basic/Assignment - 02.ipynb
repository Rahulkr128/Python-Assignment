{
 "cells": [
  {
   "cell_type": "markdown",
   "metadata": {},
   "source": [
    "# 1. What are the two values of the Boolean data type? How do you write them?"
   ]
  },
  {
   "cell_type": "markdown",
   "metadata": {},
   "source": [
    "Boolean Datatype store values True and False\n",
    "\n",
    "Definition:\n",
    "\n",
    "B = true\n",
    "\n",
    "B = false\n",
    "\n",
    "The Boolean DataType is generally used in conditional statements\n",
    "A=true\n",
    "if(A):\n",
    "    \n",
    "    print(\"True\")\n",
    "    \n",
    "    \n",
    "if A is true then it will go inside and execute the code"
   ]
  },
  {
   "cell_type": "markdown",
   "metadata": {},
   "source": [
    "---"
   ]
  },
  {
   "cell_type": "markdown",
   "metadata": {},
   "source": [
    "# 2. What are the three different types of Boolean operators?\""
   ]
  },
  {
   "cell_type": "markdown",
   "metadata": {},
   "source": [
    "<pre>\n",
    "Basically there are 3 Boolean Operators:\n",
    "    1. Logical AND (and)\n",
    "    2. Logical OR (or)\n",
    "    3. Logical NOT (not)"
   ]
  },
  {
   "cell_type": "markdown",
   "metadata": {},
   "source": [
    "# 3. Make a list of each Boolean operator's truth tables (i.e. every possible combination of Boolean values for the operator and what it evaluate )./\n"
   ]
  },
  {
   "cell_type": "code",
   "execution_count": 6,
   "metadata": {},
   "outputs": [
    {
     "name": "stdout",
     "output_type": "stream",
     "text": [
      "AND OPERATION\n",
      " A  B O/P\n",
      "[0, 0, 0]\n",
      "[0, 1, 0]\n",
      "[1, 0, 0]\n",
      "[1, 1, 1]\n",
      "\n",
      "OR OPERATION\n",
      " A  B O/P\n",
      "[0, 0, 0]\n",
      "[0, 1, 1]\n",
      "[1, 0, 1]\n",
      "[1, 1, 2]\n",
      "\n",
      "NOT OPERATION\n",
      " A O/P\n",
      "[0, 1]\n",
      "[1, 0]\n"
     ]
    }
   ],
   "source": [
    "AND=[]\n",
    "\n",
    "for i in [0,1]:\n",
    "    for j in [0,1]:\n",
    "        AND.append([i,j,i*j])\n",
    "        \n",
    "        \n",
    "OR=[]\n",
    "\n",
    "for i in [0,1]:\n",
    "    for j in [0,1]:\n",
    "        OR.append([i,j,i+j])\n",
    "\n",
    "print(\"AND OPERATION\\n A  B O/P\")\n",
    "for i in AND:\n",
    "            print(i)\n",
    "\n",
    "print(\"\\nOR OPERATION\\n A  B O/P\")\n",
    "for i in OR:\n",
    "            print(i)\n",
    "        \n",
    "        \n",
    "NOT=[]\n",
    "for i in [0,1]:\n",
    "    NOT.append([i,int(not(i))])\n",
    "\n",
    "print(\"\\nNOT OPERATION\\n A O/P\")\n",
    "for i in NOT:\n",
    "            print(i)"
   ]
  },
  {
   "cell_type": "markdown",
   "metadata": {},
   "source": [
    "# 4. What are the values of the following expressions?\n",
    "\n",
    "    - (5 > 4) and (3 == 5)\n",
    "    \n",
    "    - not (5 > 4)\n",
    "    \n",
    "    - (5 > 4) or (3 == 5)\n",
    "    \n",
    "    - not ((5 > 4) or (3 == 5))\n",
    "    \n",
    "    - (True and True) and (True == False)\n",
    "    \n",
    "    - (not False) or (not True)"
   ]
  },
  {
   "cell_type": "code",
   "execution_count": 8,
   "metadata": {},
   "outputs": [
    {
     "name": "stdout",
     "output_type": "stream",
     "text": [
      "(5 > 4) and (3 == 5):  False\n",
      "not (5 > 4) : False\n",
      "(5 > 4) or (3 == 5) :  True\n",
      "not ((5 > 4) or (3 == 5)) : False\n",
      "(True and True) and (True == False):  False\n",
      "(not False) or (not True) : True\n"
     ]
    }
   ],
   "source": [
    "print(f\"(5 > 4) and (3 == 5):  {(5 > 4) and (3 == 5)}\")\n",
    "print(f\"not (5 > 4) : {not (5 > 4)}\")\n",
    "print(f\"(5 > 4) or (3 == 5) :  {(5 > 4) or (3 == 5)}\")\n",
    "print(f\"not ((5 > 4) or (3 == 5)) : {not ((5 > 4) or (3 == 5))}\")\n",
    "print(f\"(True and True) and (True == False):  {(True and True) and (True == False)}\")\n",
    "print(f\"(not False) or (not True) : {(not False) or (not True)}\")"
   ]
  },
  {
   "cell_type": "markdown",
   "metadata": {},
   "source": [
    "6. What are the six comparison operators?"
   ]
  },
  {
   "cell_type": "markdown",
   "metadata": {},
   "source": [
    "<pre>\n",
    "<b>Comparision Operators</b> are:\n",
    "    1. ==  --> Equal to Operator\n",
    "    2. !=  --> Not Equal to Operator\n",
    "    \n",
    "    3. < --> Less than Operator\n",
    "    4. > --> Greater than Operator\n",
    "    \n",
    "    5. <= --> Less than or Equal to Operator\n",
    "    6. >= --> Greater than or Equal to Operator"
   ]
  },
  {
   "cell_type": "markdown",
   "metadata": {},
   "source": [
    "6. How do you tell the difference between the equal to and assignment operators?<br>Describe a condition and when you would use one"
   ]
  },
  {
   "cell_type": "markdown",
   "metadata": {},
   "source": [
    "Equal Operator is used for for comparision purpose\n",
    "\n",
    "Example: \n",
    "\n",
    "if a == 10:\n",
    "\n",
    "    print('Value of a is 10')\n",
    "\n",
    "Whereas\n",
    "\n",
    "Assignment Operator is used for assigning values to the Variable\n",
    "\n",
    "Ex: \n",
    "\n",
    "Assignment Operator Statement\n",
    "\n",
    "a = 10\n",
    "\n",
    "Value is assigned to a"
   ]
  },
  {
   "cell_type": "markdown",
   "metadata": {},
   "source": [
    "# 7.Identify the three blocks in this code:\n",
    "<pre>\n",
    "spam = 0 \n",
    "\n",
    "if spam == 10:\n",
    "    print(\"eggs\")  \n",
    "\n",
    "if spam > 5:\n",
    "    print(\"bacon\")\n",
    "else:\n",
    "    print(\"ham\")\n",
    "    print(\"spam\")\n",
    "    print(\"spam\")\n",
    "    \n",
    "    --------------------------------------------"
   ]
  },
  {
   "cell_type": "markdown",
   "metadata": {},
   "source": [
    "<pre>\n",
    "<b>FIRST BLOCK OF CODE</b>\n",
    "<b>Assignment Operation</b>\n",
    "spam = 0 \n",
    "\n",
    "<b>SECOND BLOCK OF CODE</b>\n",
    "<b>If Condition</b>\n",
    "if spam == 10:\n",
    "    print(\"eggs\")  \n",
    "\n",
    "<b>THIRD BLOCK OF CODE</b>\n",
    "<b>Condition Checking with IF-ELSE Block</b>\n",
    "if spam > 5:\n",
    "    print(\"bacon\")\n",
    "else:\n",
    "    print(\"ham\")\n",
    "    print(\"spam\")\n",
    "    print(\"spam\")"
   ]
  },
  {
   "cell_type": "markdown",
   "metadata": {},
   "source": [
    "# 8. Write code that\n",
    "    <pre>\n",
    "    prints Hello if 1 is stored in spam, <br>\n",
    "    prints Howdy if 2 is stored in spam, <br>\n",
    "    and prints Greetings! if anything else is stored in spam."
   ]
  },
  {
   "cell_type": "code",
   "execution_count": 9,
   "metadata": {},
   "outputs": [
    {
     "name": "stdout",
     "output_type": "stream",
     "text": [
      "Greetings!!!\n"
     ]
    }
   ],
   "source": [
    "spam = 5\n",
    "\n",
    "if spam ==1:\n",
    "    print(\"Hello\")\n",
    "elif spam ==2:\n",
    "    print('Howdy')\n",
    "else:\n",
    "    print('Greetings!!!')"
   ]
  },
  {
   "cell_type": "markdown",
   "metadata": {},
   "source": [
    "# 9. If your programme is stuck in an endless loop, what keys you’ll press?"
   ]
  },
  {
   "cell_type": "markdown",
   "metadata": {},
   "source": [
    "CTRL + C"
   ]
  },
  {
   "cell_type": "markdown",
   "metadata": {},
   "source": [
    "# 10. How can you tell the difference between break and continue?"
   ]
  },
  {
   "cell_type": "markdown",
   "metadata": {},
   "source": [
    "<pre>\n",
    "<b>Break:</b> statement breaks or leave the execution of the conditional loop execution.\n",
    "    \n",
    "<b>Continue:</b> \n",
    "    When continue comes in the conditional loop, it leaves the current iteration values for execution BUT continues from the next iterable object\n",
    "   \n",
    "<b>For Example</b>"
   ]
  },
  {
   "cell_type": "code",
   "execution_count": 11,
   "metadata": {},
   "outputs": [
    {
     "name": "stdout",
     "output_type": "stream",
     "text": [
      "Current Value of i = 1\n",
      "Current Value of i = 2\n"
     ]
    }
   ],
   "source": [
    "Break = [1,2,3,4,5,6]\n",
    "\n",
    "for i in Break:\n",
    "    if i == 3:\n",
    "        break\n",
    "    else:\n",
    "        print(f\"Current Value of i = {i}\")"
   ]
  },
  {
   "cell_type": "code",
   "execution_count": 12,
   "metadata": {},
   "outputs": [
    {
     "name": "stdout",
     "output_type": "stream",
     "text": [
      "Current Value of i = 1\n",
      "Current Value of i = 2\n",
      "Current Value of i = 3\n",
      "Current Value of i = 4\n",
      "Current Value of i = 6\n"
     ]
    }
   ],
   "source": [
    "Continue = [1,2,3,4,5,6]\n",
    "\n",
    "for i in Continue:\n",
    "    if i == 5:\n",
    "        continue\n",
    "    else:\n",
    "        print(f\"Current Value of i = {i}\")"
   ]
  },
  {
   "cell_type": "markdown",
   "metadata": {},
   "source": [
    "# 11. In a for loop, what is the difference between range(10), range(0, 10), and range(0, 10, 1)?¶"
   ]
  },
  {
   "cell_type": "markdown",
   "metadata": {},
   "source": [
    "<pre>\n",
    "There is no difference in \n",
    "    range(10)\n",
    "    range(0,10)\n",
    "    range(0,10,1)\n",
    "\n",
    "as the range can be defined as\n",
    "    range(End_value) if 1 input are provided to the range parameter\n",
    "    \n",
    "    range(initial_Value, End_value) if 2 inputs are provided to the range parameter\n",
    "    \n",
    "    range(initial_Value, End_value, Jump_value) if 3 inputs are provided to the range parameter\n",
    "    \n",
    "    \n",
    "Now, if No start value is provided to the range parameter By Default 0 is considered as the initial value\n",
    "\n",
    "Also, is no jump value is provided to the range parameter By Default 1 is considered as the jump value"
   ]
  },
  {
   "cell_type": "markdown",
   "metadata": {},
   "source": [
    "# 12. Write a short program that prints the numbers 1 to 10 using a for loop.    Then write an equivalent program that prints the numbers 1 to 10 using a while loop"
   ]
  },
  {
   "cell_type": "code",
   "execution_count": 13,
   "metadata": {},
   "outputs": [
    {
     "name": "stdout",
     "output_type": "stream",
     "text": [
      "USING FOR LOOP\n",
      "0, 1, 2, 3, 4, 5, 6, 7, 8, 9, \n",
      "USING WHILE LOOP\n",
      "0, 1, 2, 3, 4, 5, 6, 7, 8, 9, "
     ]
    }
   ],
   "source": [
    "print('USING FOR LOOP')\n",
    "for i in range(10):\n",
    "    print(i, end=\", \")\n",
    "\n",
    "print('\\nUSING WHILE LOOP')\n",
    "a=0\n",
    "while a < 10:\n",
    "    print(a, end=', ')\n",
    "    a=a+1"
   ]
  },
  {
   "cell_type": "markdown",
   "metadata": {},
   "source": [
    "<h3>Q13</h3>\n",
    "<b>If you had a function named bacon() inside a module named spam, how would you call it after importing spam?"
   ]
  },
  {
   "cell_type": "markdown",
   "metadata": {},
   "source": [
    "<pre>\n",
    "\n",
    "## Importing Spam\n",
    "import spam\n",
    "\n",
    "## CALLING the bacon function\n",
    "a = spam.bacon()"
   ]
  },
  {
   "cell_type": "code",
   "execution_count": null,
   "metadata": {},
   "outputs": [],
   "source": []
  }
 ],
 "metadata": {
  "kernelspec": {
   "display_name": "Python 3 (ipykernel)",
   "language": "python",
   "name": "python3"
  },
  "language_info": {
   "codemirror_mode": {
    "name": "ipython",
    "version": 3
   },
   "file_extension": ".py",
   "mimetype": "text/x-python",
   "name": "python",
   "nbconvert_exporter": "python",
   "pygments_lexer": "ipython3",
   "version": "3.9.7"
  }
 },
 "nbformat": 4,
 "nbformat_minor": 4
}
