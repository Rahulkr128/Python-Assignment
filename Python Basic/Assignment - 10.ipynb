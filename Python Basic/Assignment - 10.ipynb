{
 "cells": [
  {
   "cell_type": "markdown",
   "metadata": {},
   "source": [
    "# 1. How do you distinguish between shutil.copy() and shutil.copytree()?"
   ]
  },
  {
   "cell_type": "markdown",
   "metadata": {},
   "source": [
    "<pre>\n",
    "    <b>shutil.copy()</b> : copies a single file from the source location.\n",
    "\n",
    "    <b>shutil.copytree()</b> :: copies the entire folder from the source location including all the files and folders \n",
    "    present within it.\n",
    "<br>\n",
    "<b> Example"
   ]
  },
  {
   "cell_type": "markdown",
   "metadata": {},
   "source": [
    "# 2. What function is used to rename files?"
   ]
  },
  {
   "cell_type": "markdown",
   "metadata": {},
   "source": [
    "<pre>\n",
    "<b>move()</b> :: is used to rename the files\n",
    "        \n",
    "    This is done when a file with name for instance abc is already present within the destination folder\n",
    "    This is the case where renaming can be done using the move function.</pre>\n"
   ]
  },
  {
   "cell_type": "markdown",
   "metadata": {},
   "source": [
    "# 3. What is the difference between the delete functions in the send2trash and shutil modules?"
   ]
  },
  {
   "cell_type": "markdown",
   "metadata": {},
   "source": [
    "<pre>\n",
    "<b>shutil.rmtree()</b> :: will remove the folder at the specified path;\n",
    "        It will also delete the folders and file present within that specified path\n",
    "        \n",
    "        The shutil.rmtree() function will delete all the file/folder permanently\n",
    "       </pre>"
   ]
  },
  {
   "cell_type": "markdown",
   "metadata": {},
   "source": [
    "<pre>\n",
    "<b>send2trash()</b> :: is much more safer than shutil.rmtree() and the os function\n",
    "                 This function will also delete the file and folder but it will send the files to the recycling bin \n",
    "                 unlike the shutil and os which  permanently deletes the files and folder </pre>"
   ]
  },
  {
   "cell_type": "markdown",
   "metadata": {},
   "source": [
    "# 4. <b>ZipFile objects have a close() method just like File objects’ close() method. <br>What ZipFile method is equivalent to File objects’ open() method?/"
   ]
  },
  {
   "cell_type": "markdown",
   "metadata": {},
   "source": [
    "<pre>\n",
    "<b>zipfile.ZipFile(filename,mode)</b> is equivalent to file object's open() function"
   ]
  },
  {
   "cell_type": "markdown",
   "metadata": {},
   "source": [
    "# 5. Create a programme that searches a folder tree for files with a certain file extension (such as .pdf or .jpg).<br>Copy these files from whatever location they are in to a new folder.\n"
   ]
  },
  {
   "cell_type": "code",
   "execution_count": 6,
   "metadata": {},
   "outputs": [],
   "source": [
    "import shutil"
   ]
  },
  {
   "cell_type": "code",
   "execution_count": 7,
   "metadata": {},
   "outputs": [
    {
     "name": "stdout",
     "output_type": "stream",
     "text": [
      "Enter the file type extension: .pdf // .jpg // or anyone you want :: .pdf\n",
      "Enter the folder location where u want to search :: C:\\\\Users\\\\Rahul\\\\Downloads\\\\Documents\n",
      "Enter the folder location where u want to create a new folder :: C:\\\\Users\\\\Rahul\\\\Downloads\\\\Documents\n",
      "[WinError 183] Cannot create a file when that file already exists: 'C:\\\\Users\\\\Rahul\\\\Downloads\\\\Documents\\\\New folder'\n",
      "Total .pdf Files copied :: 3\n"
     ]
    }
   ],
   "source": [
    "import os\n",
    "\n",
    "user_extension = input('Enter the file type extension: .pdf // .jpg // or anyone you want :: ')\n",
    "user_file = input('Enter the folder location where u want to search :: ')\n",
    "\n",
    "os.chdir(user_file)\n",
    "\n",
    "count = 0\n",
    "\n",
    "# New Folder Creation\n",
    "directory = \"New folder\"\n",
    "new_folder = input('Enter the folder location where u want to create a new folder :: ')\n",
    "os.chdir(new_folder)\n",
    "parent_dir = os.getcwd()\n",
    "path = os.path.join(parent_dir, directory) \n",
    "try:\n",
    "    os.mkdir(path)\n",
    "except Exception as e:\n",
    "    print(e)\n",
    "\n",
    "\n",
    "for file_name in os.listdir():\n",
    "    if file_name.endswith(user_extension):\n",
    "        #os.unlink(file_name) ## This will delete the file\n",
    "        count+=1\n",
    "#         print(file_name)\n",
    "#         file_path = os.getcwd() + file_name\n",
    "        file_path = os.path.join(os.getcwd(), file_name)\n",
    "#         print(file_path)\n",
    "        shutil.copy(file_path, path)\n",
    "\n",
    "if count > 0:\n",
    "    print(f'Total {user_extension} Files copied :: {count}')\n",
    "else:\n",
    "    print(f'No {user_extension} Files Found')"
   ]
  },
  {
   "cell_type": "markdown",
   "metadata": {},
   "source": [
    "---"
   ]
  }
 ],
 "metadata": {
  "kernelspec": {
   "display_name": "Python 3 (ipykernel)",
   "language": "python",
   "name": "python3"
  },
  "language_info": {
   "codemirror_mode": {
    "name": "ipython",
    "version": 3
   },
   "file_extension": ".py",
   "mimetype": "text/x-python",
   "name": "python",
   "nbconvert_exporter": "python",
   "pygments_lexer": "ipython3",
   "version": "3.9.7"
  }
 },
 "nbformat": 4,
 "nbformat_minor": 4
}
