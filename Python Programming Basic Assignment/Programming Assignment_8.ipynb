{
 "cells": [
  {
   "cell_type": "markdown",
   "id": "17f62c1e",
   "metadata": {},
   "source": [
    "# 1.\tWrite a Python Program to Add Two Matrices?"
   ]
  },
  {
   "cell_type": "code",
   "execution_count": 18,
   "id": "8067a3a5",
   "metadata": {},
   "outputs": [
    {
     "name": "stdout",
     "output_type": "stream",
     "text": [
      "Enter the no of rows for matrix 1 2\n",
      "Enter the elements1 2\n",
      "Enter the elements3 4\n",
      "Enter the no of rows for matrix 2 2\n",
      "Enter the elements3 4\n",
      "Enter the elements5 6\n",
      "matrix1:  [[1, 2], [3, 4]]\n",
      "matrix1:  [[3, 4], [5, 6]]\n",
      "Addition of two matrix : \n",
      " [[4, 6], [8, 10]]\n"
     ]
    }
   ],
   "source": [
    "row1=int(input(\"Enter the no of rows for matrix 1 \"))\n",
    "matrix1=[]\n",
    "\n",
    "for i in range(row1):\n",
    "    a=list(map(int,input(\"Enter the elements\").split()))\n",
    "    matrix1.append(a)\n",
    "    \n",
    "\n",
    "row2=int(input(\"Enter the no of rows for matrix 2 \"))\n",
    "matrix2=[]\n",
    "for i in range(row2):\n",
    "    a=list(map(int,input(\"Enter the elements\").split()))\n",
    "    matrix2.append(a)\n",
    "    \n",
    "    \n",
    "result=[[matrix1[i][j] + matrix2[i][j] for j in range(len(matrix1[i]))] for i in range(len(matrix1))]\n",
    "\n",
    "print(\"matrix1: \",matrix1)\n",
    "print(\"matrix1: \",matrix2)\n",
    "\n",
    "print(\"Addition of two matrix : \\n\",result)\n"
   ]
  },
  {
   "cell_type": "markdown",
   "id": "f0fc9479",
   "metadata": {},
   "source": [
    "# 2.\tWrite a Python Program to Multiply Two Matrices?"
   ]
  },
  {
   "cell_type": "code",
   "execution_count": 34,
   "id": "1cbba0cd",
   "metadata": {},
   "outputs": [
    {
     "name": "stdout",
     "output_type": "stream",
     "text": [
      "Enter the no of rows for matrix 1 2\n",
      "Enter the elements1 2\n",
      "Enter the elements3 4\n",
      "Enter the no of rows for matrix 2 2\n",
      "Enter the elements5 6\n",
      "Enter the elements7 8\n",
      "matrix1:  [[1, 2], [3, 4]]\n",
      "matrix1:  [[5, 6], [7, 8]]\n",
      "multiplication of two matrix : \n",
      " [[19, 22], [43, 50]]\n"
     ]
    }
   ],
   "source": [
    "row1=int(input(\"Enter the no of rows for matrix 1 \"))\n",
    "matrix1=[]\n",
    "\n",
    "for i in range(row1):\n",
    "    a=list(map(int,input(\"Enter the elements\").split()))\n",
    "    matrix1.append(a)\n",
    "    \n",
    "\n",
    "row2=int(input(\"Enter the no of rows for matrix 2 \"))\n",
    "matrix2=[]\n",
    "for i in range(row2):\n",
    "    a=list(map(int,input(\"Enter the elements\").split()))\n",
    "    matrix2.append(a)\n",
    "    \n",
    "if(len(matrix1[0]) == len(matrix2)):\n",
    "    rows=len(matrix1)\n",
    "    cols=len(matrix2[0])\n",
    "    result= [([0]*cols) for i in range(rows)]\n",
    "    for i in range(len(matrix1)):\n",
    "        for j in range(len(matrix2[0])):\n",
    "            for k in range(len(matrix2)):\n",
    "                result[i][j]+=matrix1[i][k]*matrix2[k][j]\n",
    "    print(\"matrix1: \",matrix1)\n",
    "    print(\"matrix1: \",matrix2)\n",
    "    print(\"multiplication of two matrix : \\n\",result)\n",
    "else:\n",
    "    print(\"Matrix multiplication cannot be done\")\n"
   ]
  },
  {
   "cell_type": "markdown",
   "id": "74b02b2a",
   "metadata": {},
   "source": [
    "# 3.\tWrite a Python Program to Transpose a Matrix?"
   ]
  },
  {
   "cell_type": "code",
   "execution_count": 13,
   "id": "044b75de",
   "metadata": {},
   "outputs": [
    {
     "name": "stdout",
     "output_type": "stream",
     "text": [
      "Enter the no of rows for matrix 1 3\n",
      "Enter the elements1 2\n",
      "Enter the elements3 4\n",
      "Enter the elements5 6\n",
      "Matrix :  [[1, 2], [3, 4], [5, 6]]\n",
      "Matrix after transpose :  [[1, 3, 5], [2, 4, 6]]\n"
     ]
    }
   ],
   "source": [
    "row1=int(input(\"Enter the no of rows for matrix 1 \"))\n",
    "matrix1=[]\n",
    "\n",
    "for i in range(row1):\n",
    "    a=list(map(int,input(\"Enter the elements\").split()))\n",
    "    matrix1.append(a)\n",
    "    \n",
    "matrix2=[([0]*len(matrix1)) for i in range(len(matrix1[0]))]\n",
    "\n",
    "for i in range(len(matrix2)):\n",
    "    for j in range(len(matrix2[i])):\n",
    "        matrix2[i][j]=matrix1[j][i]\n",
    "        \n",
    "print(\"Matrix : \", matrix1)\n",
    "print(\"Matrix after transpose : \",matrix2)\n",
    "    "
   ]
  },
  {
   "cell_type": "markdown",
   "id": "b5253562",
   "metadata": {},
   "source": [
    "# 4.\tWrite a Python Program to Sort Words in Alphabetic Order?"
   ]
  },
  {
   "cell_type": "code",
   "execution_count": 24,
   "id": "99c609b0",
   "metadata": {},
   "outputs": [
    {
     "name": "stdout",
     "output_type": "stream",
     "text": [
      "Enter a sentenceI am learning Data Science\n",
      "The sorted words are: \n",
      "am data i learning science "
     ]
    }
   ],
   "source": [
    "sentence=input(\"Enter a sentence\")\n",
    "\n",
    "#splitting the sentence into words and converting into lower\n",
    "words=[word.lower()  for word in sentence.split()]\n",
    "\n",
    "# sorting the words\n",
    "words.sort()\n",
    "\n",
    "print(\"The sorted words are: \")\n",
    "for i in words:\n",
    "    print(i,end=\" \")\n",
    "    \n",
    "       "
   ]
  },
  {
   "cell_type": "markdown",
   "id": "c75fd15d",
   "metadata": {},
   "source": [
    "# 5.\tWrite a Python Program to Remove Punctuation From a String?"
   ]
  },
  {
   "cell_type": "code",
   "execution_count": 8,
   "id": "e2d62fc8",
   "metadata": {},
   "outputs": [
    {
     "name": "stdout",
     "output_type": "stream",
     "text": [
      "Enter a stringqwert@ir$bur\"hoe\n",
      "String after removing punctuatuion :  qwertirburhoe\n"
     ]
    }
   ],
   "source": [
    "string=input(\"Enter a string\")\n",
    "list1=list()\n",
    "str1=\"\"\n",
    "for i in string:\n",
    "    if(ord(i)>=65 and ord(i)<=90) or (ord(i)>=97 and ord(i)<=122) or (ord(i)>=48 and ord(i)<=57):\n",
    "        list1.append(i)\n",
    "        \n",
    "for i in list1:\n",
    "    str1+=\"\"+i\n",
    "\n",
    "print(\"String after removing punctuatuion : \",str1)"
   ]
  },
  {
   "cell_type": "code",
   "execution_count": null,
   "id": "a17bb7c7",
   "metadata": {},
   "outputs": [],
   "source": []
  }
 ],
 "metadata": {
  "kernelspec": {
   "display_name": "Python 3 (ipykernel)",
   "language": "python",
   "name": "python3"
  },
  "language_info": {
   "codemirror_mode": {
    "name": "ipython",
    "version": 3
   },
   "file_extension": ".py",
   "mimetype": "text/x-python",
   "name": "python",
   "nbconvert_exporter": "python",
   "pygments_lexer": "ipython3",
   "version": "3.9.7"
  }
 },
 "nbformat": 4,
 "nbformat_minor": 5
}
