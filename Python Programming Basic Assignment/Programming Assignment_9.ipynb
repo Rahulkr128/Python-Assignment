{
 "cells": [
  {
   "cell_type": "markdown",
   "id": "8691e4f3",
   "metadata": {},
   "source": [
    "# 1.\tWrite a Python program to check if the given number is a Disarium Number?"
   ]
  },
  {
   "cell_type": "code",
   "execution_count": 8,
   "id": "2d6565b6",
   "metadata": {},
   "outputs": [
    {
     "name": "stdout",
     "output_type": "stream",
     "text": [
      "Enter a number89\n",
      "89  it is a Disarium Number\n"
     ]
    }
   ],
   "source": [
    "def IsDisarium(num):\n",
    "    rnum=num\n",
    "    len1=len(str(num))\n",
    "    sum=0\n",
    "    while(num>0):\n",
    "        reminder=num%10\n",
    "        sum+=reminder**len1\n",
    "        len1-=1\n",
    "        num=num//10\n",
    "    \n",
    "    if(sum==rnum):\n",
    "        print(rnum,\" it is a Disarium Number\")\n",
    "    else:\n",
    "        print(rnum,\" it is not a disarium number\")\n",
    "        \n",
    "        \n",
    "num=int(input(\"Enter a number\"))\n",
    "IsDisarium(num)"
   ]
  },
  {
   "cell_type": "markdown",
   "id": "7bf27194",
   "metadata": {},
   "source": [
    "# 2.\tWrite a Python program to print all disarium numbers between 1 to 100?"
   ]
  },
  {
   "cell_type": "code",
   "execution_count": 14,
   "id": "6ed96bd1",
   "metadata": {},
   "outputs": [
    {
     "name": "stdout",
     "output_type": "stream",
     "text": [
      "Below are the list of disarium numbers between 1 to 100\n",
      "0 1 2 3 4 5 6 7 8 9 89 "
     ]
    }
   ],
   "source": [
    "def IsDisarium(num):\n",
    "    rnum=num\n",
    "    len1=len(str(num))\n",
    "    sum=0\n",
    "    while(num>0):\n",
    "        reminder=num%10\n",
    "        sum+=reminder**len1\n",
    "        len1-=1\n",
    "        num=num//10\n",
    "    \n",
    "    return sum==rnum\n",
    "\n",
    "        \n",
    "    \n",
    "        \n",
    "disariumlist=list()      \n",
    "for i in range(100):\n",
    "    if(IsDisarium(i)):\n",
    "        disariumlist.append(i)\n",
    "        \n",
    "        \n",
    "print(\"Below are the list of disarium numbers between 1 to 100\")\n",
    "for i in disariumlist:\n",
    "    print(i,end=\" \")"
   ]
  },
  {
   "cell_type": "markdown",
   "id": "46d3b067",
   "metadata": {},
   "source": [
    "# 3.\tWrite a Python program to check if the given number is Happy Number?"
   ]
  },
  {
   "cell_type": "code",
   "execution_count": 27,
   "id": "c2d19a5b",
   "metadata": {},
   "outputs": [
    {
     "name": "stdout",
     "output_type": "stream",
     "text": [
      "Enter the number for which we need to check10\n",
      "It's a Happy Number\n"
     ]
    }
   ],
   "source": [
    "def squareofnumber(num):\n",
    "    sum=0\n",
    "    while(num>0):\n",
    "        reminder=num%10\n",
    "        sum+=reminder**2\n",
    "        num=num//10\n",
    "    return sum\n",
    "\n",
    "\n",
    "def isHappyNumber(num):\n",
    "    collection=list()\n",
    "    \n",
    "    while(True):\n",
    "        num=squareofnumber(num)\n",
    "        if(num==1):\n",
    "            return True\n",
    "        elif(num in collection):\n",
    "            return False\n",
    "        collection.append(num)\n",
    "        \n",
    "\n",
    "value=int(input(\"Enter the number for which we need to check\"))\n",
    "result=isHappyNumber(value)\n",
    "if(result):\n",
    "    print(\"It's a Happy Number\")\n",
    "else:\n",
    "    print(\"It's not a Happy Number\")"
   ]
  },
  {
   "cell_type": "markdown",
   "id": "8d9c4b02",
   "metadata": {},
   "source": [
    "# 4.\tWrite a Python program to print all happy numbers between 1 and 100?"
   ]
  },
  {
   "cell_type": "code",
   "execution_count": 29,
   "id": "efd0e340",
   "metadata": {},
   "outputs": [
    {
     "name": "stdout",
     "output_type": "stream",
     "text": [
      "Following are the Happy Numbers present between 1 and 100\n",
      "1 7 10 13 19 23 28 31 32 44 49 68 70 79 82 86 91 94 97 "
     ]
    }
   ],
   "source": [
    "def squareofnumber(num):\n",
    "    sum=0\n",
    "    while(num>0):\n",
    "        reminder=num%10\n",
    "        sum+=reminder**2\n",
    "        num=num//10\n",
    "    return sum\n",
    "\n",
    "\n",
    "def isHappyNumber(num):\n",
    "    collection=list()\n",
    "    \n",
    "    while(True):\n",
    "        num=squareofnumber(num)\n",
    "        if(num==1):\n",
    "            return True\n",
    "        elif(num in collection):\n",
    "            return False\n",
    "        collection.append(num)\n",
    "        \n",
    "\n",
    "HappyNumbers=list()\n",
    "for i in range (100):\n",
    "    result=isHappyNumber(i)\n",
    "    if(result):\n",
    "        HappyNumbers.append(i)\n",
    "        \n",
    "\n",
    "\n",
    "print(\"Following are the Happy Numbers present between 1 and 100\")\n",
    "for i in HappyNumbers:\n",
    "    print(i,end=\" \")"
   ]
  },
  {
   "cell_type": "markdown",
   "id": "390fe282",
   "metadata": {},
   "source": [
    "# 5.\tWrite a Python program to determine whether the given number is a Harshad Number?"
   ]
  },
  {
   "cell_type": "code",
   "execution_count": 33,
   "id": "cd244aab",
   "metadata": {},
   "outputs": [
    {
     "name": "stdout",
     "output_type": "stream",
     "text": [
      "Enter the number for which we need to check18\n",
      "It's a Harshad Number\n"
     ]
    }
   ],
   "source": [
    "def isHarshad(num):\n",
    "    value=num\n",
    "    sum=0\n",
    "    while(value):\n",
    "        reminder=value%10\n",
    "        sum+=reminder\n",
    "        value=value//10\n",
    "    if(num%sum==0):\n",
    "        return True\n",
    "    else:\n",
    "        return False\n",
    "\n",
    "    \n",
    "value=int(input(\"Enter the number for which we need to check\"))\n",
    "result=isHarshad(value)\n",
    "if(result):\n",
    "    print(\"It's a Harshad Number\")\n",
    "else:\n",
    "    print(\"It's not a Harshad Number\")"
   ]
  },
  {
   "cell_type": "markdown",
   "id": "177b1cdf",
   "metadata": {},
   "source": [
    "# 6.\tWrite a Python program to print all pronic numbers between 1 and 100?"
   ]
  },
  {
   "cell_type": "code",
   "execution_count": 36,
   "id": "60448975",
   "metadata": {},
   "outputs": [
    {
     "name": "stdout",
     "output_type": "stream",
     "text": [
      "THe numbers which are pronic numbers between 1 and 100 are:\n",
      "0 2 6 12 20 30 42 56 72 90 "
     ]
    }
   ],
   "source": [
    "pronic_numbers=list()\n",
    "\n",
    "for i in range(100):\n",
    "    result=0\n",
    "    j=i\n",
    "    result+=j*(j+1)\n",
    "    if(result>100):\n",
    "        break\n",
    "    pronic_numbers.append(result)\n",
    "    \n",
    "print(\"THe numbers which are pronic numbers between 1 and 100 are:\")\n",
    "for i in pronic_numbers:\n",
    "    print(i,end=\" \")\n"
   ]
  },
  {
   "cell_type": "code",
   "execution_count": null,
   "id": "89218a14",
   "metadata": {},
   "outputs": [],
   "source": []
  }
 ],
 "metadata": {
  "kernelspec": {
   "display_name": "Python 3 (ipykernel)",
   "language": "python",
   "name": "python3"
  },
  "language_info": {
   "codemirror_mode": {
    "name": "ipython",
    "version": 3
   },
   "file_extension": ".py",
   "mimetype": "text/x-python",
   "name": "python",
   "nbconvert_exporter": "python",
   "pygments_lexer": "ipython3",
   "version": "3.9.7"
  }
 },
 "nbformat": 4,
 "nbformat_minor": 5
}
