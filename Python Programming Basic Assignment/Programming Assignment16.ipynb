{
 "cells": [
  {
   "cell_type": "markdown",
   "id": "b2bae4d1",
   "metadata": {},
   "source": [
    "# Question1. Write a function that stutters a word as if someone is struggling to read it. The first two letters are repeated twice with an ellipsis ... and space after each, and then the word is pronounced with a question mark ?.\n",
    "Examples\n",
    "stutter(\"incredible\") ➞ \"in... in... incredible?\"\n",
    "\n",
    "stutter(\"enthusiastic\") ➞ \"en... en... enthusiastic?\"\n",
    "\n",
    "stutter(\"outstanding\") ➞ \"ou... ou... outstanding?\"\n",
    "\n",
    "Hint :- Assume all input is in lower case and at least two characters long.\n"
   ]
  },
  {
   "cell_type": "code",
   "execution_count": 1,
   "id": "104901b5",
   "metadata": {},
   "outputs": [
    {
     "name": "stdout",
     "output_type": "stream",
     "text": [
      "Enter the wordoutstanding\n",
      "ou... ou... outstanding?\n"
     ]
    }
   ],
   "source": [
    "def stutter(word):\n",
    "    s = word[:2]\n",
    "    return (2 * (s + '... ')) + word + '?'\n",
    "\n",
    "\n",
    "print(stutter(input(\"Enter the word\")))"
   ]
  },
  {
   "cell_type": "markdown",
   "id": "08124500",
   "metadata": {},
   "source": [
    "# Question 2.Create a function that takes an angle in radians and returns the corresponding angle in degrees rounded to one decimal place.\n",
    "Examples\n",
    "radians_to_degrees(1) ➞ 57.3\n",
    "\n",
    "radians_to_degrees(20) ➞ 1145.9\n",
    "\n",
    "radians_to_degrees(50) ➞ 2864.8\n"
   ]
  },
  {
   "cell_type": "code",
   "execution_count": 5,
   "id": "3a86b826",
   "metadata": {},
   "outputs": [
    {
     "name": "stdout",
     "output_type": "stream",
     "text": [
      "Enter the radian50\n",
      "degree = 2864.8\n"
     ]
    }
   ],
   "source": [
    "def Convert(radian):\n",
    "    pi = 3.14159\n",
    "    degree = radian * (180/pi)\n",
    "    return degree\n",
    " \n",
    "radian =float(input(\"Enter the radian\"))\n",
    "print(\"degree =\",(round(Convert(radian),1)))"
   ]
  },
  {
   "cell_type": "markdown",
   "id": "e4d8fcc3",
   "metadata": {},
   "source": [
    "### Question 3. In this challenge, establish if a given integer num is a Curzon number. If 1 plus 2 elevated to num is exactly divisible by 1 plus 2 multiplied by num, then num is a Curzon number.\n",
    "\n",
    "### Given a non-negative integer num, implement a function that returns True if num is a Curzon number, or False otherwise.\n"
   ]
  },
  {
   "cell_type": "raw",
   "id": "514d7a84",
   "metadata": {},
   "source": [
    "Examples\n",
    "is_curzon(5) ➞ True\n",
    "# 2 ** 5 + 1 = 33\n",
    "# 2 * 5 + 1 = 11\n",
    "# 33 is a multiple of 11\n",
    "\n",
    "is_curzon(10) ➞ False\n",
    "# 2 ** 10 + 1 = 1025\n",
    "# 2 * 10 + 1 = 21\n",
    "# 1025 is not a multiple of 21\n",
    "\n",
    "is_curzon(14) ➞ True\n",
    "# 2 ** 14 + 1 = 16385\n",
    "# 2 * 14 + 1 = 29\n",
    "# 16385 is a multiple of 29\n"
   ]
  },
  {
   "cell_type": "code",
   "execution_count": 10,
   "id": "3d66e06a",
   "metadata": {},
   "outputs": [
    {
     "name": "stdout",
     "output_type": "stream",
     "text": [
      "Enter positive number14\n",
      "is_curzon(14) --> True\n"
     ]
    }
   ],
   "source": [
    "def is_curzon(num):\n",
    "    num_sq=2**num+1\n",
    "    num_base=2*num +1\n",
    "    if(num_sq%num_base==0):\n",
    "        return True\n",
    "    else:\n",
    "        return False\n",
    "    \n",
    "number=int(input(\"Enter positive number\"))\n",
    "print(f\"is_curzon({number}) --> {is_curzon(number)}\")\n"
   ]
  },
  {
   "cell_type": "markdown",
   "id": "319083bf",
   "metadata": {},
   "source": [
    "# Question 4.Given the side length x find the area of a hexagon.\n",
    " \n",
    "Examples\n",
    "area_of_hexagon(1) ➞ 2.6\n",
    "\n",
    "area_of_hexagon(2) ➞ 10.4\n",
    "\n",
    "area_of_hexagon(3) ➞ 23.4\n"
   ]
  },
  {
   "cell_type": "code",
   "execution_count": 14,
   "id": "1f48f4b5",
   "metadata": {},
   "outputs": [
    {
     "name": "stdout",
     "output_type": "stream",
     "text": [
      "Enter the length of hexagon3\n",
      "area_hexagon(3 --> 23.4)\n"
     ]
    }
   ],
   "source": [
    "import math\n",
    "\n",
    "def hexagonArea(s):\n",
    "      \n",
    "    return ((3 * math.sqrt(3) * \n",
    "            (s * s)) / 2); \n",
    "\n",
    "length=int(input(\"Enter the length of hexagon\"))\n",
    "print(f\"area_hexagon({length} --> {round(hexagonArea(length),1)})\")"
   ]
  },
  {
   "cell_type": "markdown",
   "id": "a218e00f",
   "metadata": {},
   "source": [
    "# Question 5. Create a function that returns a base-2 (binary) representation of a base-10 (decimal) string number. To convert is simple: ((2) means base-2 and (10) means base-10) 010101001(2) = 1 + 8 + 32 + 128.\n",
    "<pre>\n",
    "Going from right to left, the value of the most right bit is 1, now from that every bit to the left will be x2 the value, value of an 8 bit binary numbers are (256, 128, 64, 32, 16, 8, 4, 2, 1).\n",
    "Examples\n",
    "binary(1) ➞ \"1\"\n",
    " 1*1 = 1\n",
    "\n",
    "binary(5) ➞ \"101\"\n",
    " 1*1 + 1*4 = 5\n",
    "\n",
    "binary(10) ➞ \"1010\"\n",
    "1*2 + 1*8 = 10\n"
   ]
  },
  {
   "cell_type": "code",
   "execution_count": 30,
   "id": "054aed41",
   "metadata": {},
   "outputs": [
    {
     "name": "stdout",
     "output_type": "stream",
     "text": [
      "Enter the binary representation you want to convert010101001\n",
      "Enter the base you want to convert2\n",
      "binary(010101001)--> 169\n"
     ]
    }
   ],
   "source": [
    "def Decimal(inp_str,base):\n",
    "    inp_len=len(inp_str)\n",
    "    power=1\n",
    "    value=0\n",
    "    \n",
    "    for i in range(inp_len-1,-1,-1):\n",
    "        if int(inp_str[i]) >= base:\n",
    "            print('Invalid Number')\n",
    "            return -1\n",
    "        \n",
    "        value += int(inp_str[i]) * power\n",
    "        power = power * base\n",
    "    return value\n",
    "\n",
    "\n",
    "string=input(\"Enter the binary representation you want to convert\")\n",
    "base=int(input(\"Enter the base you want to convert\"))\n",
    "print(f\"binary({string})--> {Decimal(string,base)}\")\n",
    "    \n",
    "    "
   ]
  }
 ],
 "metadata": {
  "kernelspec": {
   "display_name": "Python 3 (ipykernel)",
   "language": "python",
   "name": "python3"
  },
  "language_info": {
   "codemirror_mode": {
    "name": "ipython",
    "version": 3
   },
   "file_extension": ".py",
   "mimetype": "text/x-python",
   "name": "python",
   "nbconvert_exporter": "python",
   "pygments_lexer": "ipython3",
   "version": "3.9.7"
  }
 },
 "nbformat": 4,
 "nbformat_minor": 5
}
