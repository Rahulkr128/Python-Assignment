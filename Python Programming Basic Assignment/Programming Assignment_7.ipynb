{
 "cells": [
  {
   "cell_type": "markdown",
   "id": "37081b66",
   "metadata": {},
   "source": [
    "# 1.\tWrite a Python Program to find sum of array?"
   ]
  },
  {
   "cell_type": "code",
   "execution_count": 8,
   "id": "324a279f",
   "metadata": {},
   "outputs": [
    {
     "name": "stdout",
     "output_type": "stream",
     "text": [
      "Enter the value of array1 2 3 4 5\n",
      "The sum of array is 15\n"
     ]
    }
   ],
   "source": [
    "arr=list(map(int,input(\"Enter the value of array\").split()))\n",
    "sum=0\n",
    "for i in arr:\n",
    "    sum+=i\n",
    "\n",
    "print(\"The sum of array is\",sum)"
   ]
  },
  {
   "cell_type": "markdown",
   "id": "498ddfaf",
   "metadata": {},
   "source": [
    "# 2.\tWrite a Python Program to find largest element in an array?"
   ]
  },
  {
   "cell_type": "code",
   "execution_count": 9,
   "id": "1f3ff332",
   "metadata": {},
   "outputs": [
    {
     "name": "stdout",
     "output_type": "stream",
     "text": [
      "Enter the value of array4 9 7 5 3\n",
      "The largest element in array is 9\n"
     ]
    }
   ],
   "source": [
    "arr=list(map(int,input(\"Enter the value of array\").split()))\n",
    "max=0\n",
    "for i in arr:\n",
    "    if(i>max):\n",
    "        max=i\n",
    "\n",
    "print(\"The largest element in array is\",max)"
   ]
  },
  {
   "cell_type": "markdown",
   "id": "4ec776e2",
   "metadata": {},
   "source": [
    "# 3.\tWrite a Python Program for array rotation?"
   ]
  },
  {
   "cell_type": "code",
   "execution_count": 16,
   "id": "f430b178",
   "metadata": {},
   "outputs": [
    {
     "name": "stdout",
     "output_type": "stream",
     "text": [
      "Enter the value of array5 6 7 1 2 3 4\n",
      "Enter the no of rotaion you want to perform3\n",
      "The array after rotating is [1, 2, 3, 4, 5, 6, 7]\n"
     ]
    }
   ],
   "source": [
    "def array_rotation(array,no_rotation):\n",
    "    i=0\n",
    "    while(i<no_rotation):\n",
    "        t=array.pop(0)\n",
    "        array.append(t)\n",
    "        i+=1\n",
    "        \n",
    "    return array\n",
    "\n",
    "arr=list(map(int,input(\"Enter the value of array\").split()))\n",
    "no_rotation=int(input(\"Enter the no of rotaion you want to perform\"))\n",
    "print(\"The array after rotating is\",array_rotation(arr,no_rotation))"
   ]
  },
  {
   "cell_type": "markdown",
   "id": "1a05f2f1",
   "metadata": {},
   "source": [
    "# 4.\tWrite a Python Program to Split the array and add the first part to the end?"
   ]
  },
  {
   "cell_type": "code",
   "execution_count": 17,
   "id": "14db737c",
   "metadata": {},
   "outputs": [
    {
     "name": "stdout",
     "output_type": "stream",
     "text": [
      "Enter the value of array1 2 3 4 5 6\n",
      "Enter the index from where you want to split3\n",
      "the array after splitting and then adding it to back of the array is  [4, 5, 6, 1, 2, 3]\n"
     ]
    }
   ],
   "source": [
    "def array_rotation(array,split):\n",
    "    temp=[]\n",
    "    i=0\n",
    "    while(i<split):\n",
    "        temp.append(array.pop(0))\n",
    "        i+=1\n",
    "\n",
    "    array=arr+temp\n",
    "    return array\n",
    "\n",
    "arr=list(map(int,input(\"Enter the value of array\").split()))\n",
    "split=int(input(\"Enter the index from where you want to split\"))\n",
    "print(\"the array after splitting and then adding it to back of the array is \",array_rotation(arr,split))"
   ]
  },
  {
   "cell_type": "markdown",
   "id": "6f178ced",
   "metadata": {},
   "source": [
    "# 5.\tWrite a Python Program to check if given array is Monotonic?"
   ]
  },
  {
   "cell_type": "code",
   "execution_count": 31,
   "id": "43b5ee48",
   "metadata": {},
   "outputs": [
    {
     "name": "stdout",
     "output_type": "stream",
     "text": [
      "Enter the value of array9 7 4 3 3 2 1\n",
      "Array is monotonic:  True\n"
     ]
    }
   ],
   "source": [
    "def isMonotonic(array):\n",
    "    return(all(arr[i]<=arr[i+1] for i in range(len(array)-1)) or all(arr[i]>=arr[i+1] for i in range(len(array)-1)))\n",
    "\n",
    "arr=list(map(int,input(\"Enter the value of array\").split()))\n",
    "print(\"Array is monotonic: \",isMonotonic(arr))"
   ]
  },
  {
   "cell_type": "code",
   "execution_count": null,
   "id": "4a8c8a05",
   "metadata": {},
   "outputs": [],
   "source": []
  }
 ],
 "metadata": {
  "kernelspec": {
   "display_name": "Python 3 (ipykernel)",
   "language": "python",
   "name": "python3"
  },
  "language_info": {
   "codemirror_mode": {
    "name": "ipython",
    "version": 3
   },
   "file_extension": ".py",
   "mimetype": "text/x-python",
   "name": "python",
   "nbconvert_exporter": "python",
   "pygments_lexer": "ipython3",
   "version": "3.9.7"
  }
 },
 "nbformat": 4,
 "nbformat_minor": 5
}
