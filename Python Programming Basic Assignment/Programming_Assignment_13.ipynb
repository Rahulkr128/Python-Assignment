{
 "cells": [
  {
   "cell_type": "markdown",
   "id": "316b39a8",
   "metadata": {},
   "source": [
    "# Question 1:\n",
    "\n",
    "Write a program that calculates and prints the value according to the given formula:\n",
    "\n",
    "Q = Square root of [(2 * C * D)/H]\n",
    "\n",
    "Following are the fixed values of C and H:\n",
    "\n",
    "C is 50. H is 30.\n",
    "\n",
    "D is the variable whose values should be input to your program in a comma-separated sequence.\n",
    "\n",
    "Example\n",
    "\n",
    "Let us assume the following comma separated input sequence is given to the program:\n",
    "\n",
    "100,150,180\n",
    "\n",
    "The output of the program should be:\n",
    "\n",
    "18,22,24\n"
   ]
  },
  {
   "cell_type": "code",
   "execution_count": 3,
   "id": "7d3a7df5",
   "metadata": {},
   "outputs": [
    {
     "name": "stdout",
     "output_type": "stream",
     "text": [
      "Enter the value in comma separated sequence100,150,180\n",
      "Output: 18 22 24 "
     ]
    }
   ],
   "source": [
    "import math\n",
    "def calculateValue(D):\n",
    "    C=50\n",
    "    H=30\n",
    "    OutputQ=list()\n",
    "    for i in D:\n",
    "        Q=int(math.sqrt((2*C*i)/H))\n",
    "        OutputQ.append(Q)\n",
    "    \n",
    "    return OutputQ\n",
    "        \n",
    "D=list(map(int,input(\"Enter the value in comma separated sequence\").split(',')))\n",
    "outputD=list()\n",
    "outputD=calculateValue(D)\n",
    "print(\"Output:\",end=' ')\n",
    "for i in outputD:\n",
    "    print(i,end=' ')\n",
    "    "
   ]
  },
  {
   "cell_type": "markdown",
   "id": "da9807d4",
   "metadata": {},
   "source": [
    "# Question 2:\n",
    "Write a program which takes 2 digits, X,Y as input and generates a 2-dimensional array. The element value in the i-th row and j-th column of the array should be i*j.\n",
    "\n",
    "Note: i=0,1.., X-1; j=0,1,¡¬Y-1.\n",
    "\n",
    "Example\n",
    "\n",
    "Suppose the following inputs are given to the program:\n",
    "\n",
    "3,5\n",
    "\n",
    "Then, the output of the program should be:\n",
    "\n",
    "[[0, 0, 0, 0, 0], [0, 1, 2, 3, 4], [0, 2, 4, 6, 8]] \n"
   ]
  },
  {
   "cell_type": "code",
   "execution_count": 7,
   "id": "79076a70",
   "metadata": {},
   "outputs": [
    {
     "name": "stdout",
     "output_type": "stream",
     "text": [
      "Enter the rows 3\n",
      "Enter the columns 5\n",
      "Output matrix: \n",
      " [[0, 0, 0, 0, 0], [0, 1, 2, 3, 4], [0, 2, 4, 6, 8]]\n"
     ]
    }
   ],
   "source": [
    "def arraycreate(x,y):\n",
    "    matrix=list()\n",
    "    for i in range(x):\n",
    "        list1=list()\n",
    "        for j in range(y):\n",
    "            list1.append(i*j)\n",
    "            \n",
    "        matrix.append(list1)\n",
    "        \n",
    "    return matrix\n",
    "    \n",
    "    \n",
    "x=int(input(\"Enter the rows \"))\n",
    "y=int(input(\"Enter the columns \"))\n",
    "matrix=arraycreate(x,y)\n",
    "\n",
    "print(\"Output matrix: \\n\",matrix)\n",
    "\n",
    "\n"
   ]
  },
  {
   "cell_type": "markdown",
   "id": "9d5d7fee",
   "metadata": {},
   "source": [
    "# Question 3:\n",
    "Write a program that accepts a comma separated sequence of words as input and prints the words in a comma-separated sequence after sorting them alphabetically.\n",
    "\n",
    "Suppose the following input is supplied to the program:\n",
    "\n",
    "without,hello,bag,world\n",
    "\n",
    "Then, the output should be:\n",
    "\n",
    "bag,hello,without,world\n"
   ]
  },
  {
   "cell_type": "code",
   "execution_count": 11,
   "id": "b420aa5e",
   "metadata": {},
   "outputs": [
    {
     "name": "stdout",
     "output_type": "stream",
     "text": [
      "Enter input string: without,hello,bag,world\n",
      "The output string is  bag,hello,without,world\n"
     ]
    }
   ],
   "source": [
    "stringlist=list(input(\"Enter input string: \").split(\",\"))\n",
    "stringlist.sort()\n",
    "outstring=\",\".join(stringlist)\n",
    "print(\"The output string is \",outstring)"
   ]
  },
  {
   "cell_type": "markdown",
   "id": "4c390558",
   "metadata": {},
   "source": [
    "# Question 4:\n",
    "Write a program that accepts a sequence of whitespace separated words as input and prints the words after removing all duplicate words and sorting them alphanumerically.\n",
    "\n",
    "Suppose the following input is supplied to the program:\n",
    "\n",
    "hello world and practice makes perfect and hello world again\n",
    "\n",
    "Then, the output should be:\n",
    "\n",
    "again and hello makes perfect practice world\n"
   ]
  },
  {
   "cell_type": "code",
   "execution_count": 21,
   "id": "eb908b92",
   "metadata": {},
   "outputs": [
    {
     "name": "stdout",
     "output_type": "stream",
     "text": [
      "Enter input string: hello world and practice makes perfect and hello world again\n",
      "The output string is  again and hello makes perfect practice world\n"
     ]
    }
   ],
   "source": [
    "stringlist=list(input(\"Enter input string: \").split())\n",
    "outstring=list(set(stringlist))\n",
    "outstring.sort()\n",
    "outstring=\" \".join(outstring)\n",
    "print(\"The output string is \",outstring)"
   ]
  },
  {
   "cell_type": "markdown",
   "id": "a1424eeb",
   "metadata": {},
   "source": [
    "# Question 5:\n",
    "Write a program that accepts a sentence and calculate the number of letters and digits.\n",
    "\n",
    "Suppose the following input is supplied to the program:\n",
    "\n",
    "hello world! 123\n",
    "\n",
    "Then, the output should be:\n",
    "\n",
    "LETTERS 10\n",
    "\n",
    "DIGITS 3\n"
   ]
  },
  {
   "cell_type": "code",
   "execution_count": 30,
   "id": "643a1451",
   "metadata": {},
   "outputs": [
    {
     "name": "stdout",
     "output_type": "stream",
     "text": [
      "Enter the stringhello world! 123\n",
      "The count of letters and digits are in inputed string:\n",
      " LETTERS: 10 \n",
      " DIGITS: 3\n"
     ]
    }
   ],
   "source": [
    "inputString=input(\"Enter the string\")\n",
    "letters,digits=0,0\n",
    "for i in inputString:\n",
    "    if(ord(i)>=65 and ord(i)<=90) or (ord(i)>=97 and ord(i)<=122):\n",
    "        letters+=1\n",
    "    elif(ord(i)>=48 and ord(i)<=57):\n",
    "        digits+=1\n",
    "        \n",
    "\n",
    "print(\"The count of letters and digits are in inputed string:\\n LETTERS: {} \\n DIGITS: {}\".format(letters,digits))"
   ]
  },
  {
   "cell_type": "markdown",
   "id": "8b2a06ae",
   "metadata": {},
   "source": [
    "# Question 6:\n",
    "A website requires the users to input username and password to register. Write a program to check the validity of password input by users.\n",
    "\n",
    "Following are the criteria for checking the password:\n",
    "\n",
    "1. At least 1 letter between [a-z]\n",
    "\n",
    "2. At least 1 number between [0-9]\n",
    "\n",
    "1. At least 1 letter between [A-Z]\n",
    "\n",
    "3. At least 1 character from [$#@]\n",
    "\n",
    "4. Minimum length of transaction password: 6\n",
    "\n",
    "5. Maximum length of transaction password: 12\n",
    "\n",
    "Your program should accept a sequence of comma separated passwords and will check them according to the above criteria. Passwords that match the criteria are to be printed, each separated by a comma.\n",
    "\n",
    "Example\n",
    "\n",
    "If the following passwords are given as input to the program:\n",
    "\n",
    "ABd1234@1,a F1#,2w3E*,2We3345\n",
    "\n",
    "Then, the output of the program should be:\n",
    "\n",
    "ABd1234@1\n"
   ]
  },
  {
   "cell_type": "code",
   "execution_count": 20,
   "id": "615b121a",
   "metadata": {},
   "outputs": [
    {
     "name": "stdout",
     "output_type": "stream",
     "text": [
      "Enter all the passsword you want to check: ABd1234@1,a F1#,2w3E*,2We3345\n",
      "Valid passwords are:  ['ABd1234@1']\n"
     ]
    }
   ],
   "source": [
    "password_list=input(\"Enter all the passsword you want to check: \").split(\",\")\n",
    "valid_password=[]\n",
    "special_chars=['$','#','@']\n",
    "for i in password_list:\n",
    "    if(len(i) > 12 or len(i)<6):\n",
    "        continue\n",
    "\n",
    "    #check if has both uppercase and lower\n",
    "    if (i.isupper() and i.islower()):\n",
    "        continue\n",
    "\n",
    "    has_number = any(char.isdigit() for char in i)\n",
    "    if(not has_number):\n",
    "        continue\n",
    "    \n",
    "    has_char = any(char in special_chars for char in i)\n",
    "    if(not has_char):\n",
    "        continue\n",
    "\n",
    "    #only reached if all checks are passed\n",
    "    valid_password.append(i)\n",
    "    \n",
    "print(\"Valid passwords are: \",valid_password)"
   ]
  }
 ],
 "metadata": {
  "kernelspec": {
   "display_name": "Python 3 (ipykernel)",
   "language": "python",
   "name": "python3"
  },
  "language_info": {
   "codemirror_mode": {
    "name": "ipython",
    "version": 3
   },
   "file_extension": ".py",
   "mimetype": "text/x-python",
   "name": "python",
   "nbconvert_exporter": "python",
   "pygments_lexer": "ipython3",
   "version": "3.9.7"
  }
 },
 "nbformat": 4,
 "nbformat_minor": 5
}
