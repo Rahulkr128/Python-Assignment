{
 "cells": [
  {
   "cell_type": "markdown",
   "id": "4f6a67b1",
   "metadata": {},
   "source": [
    "# 1.\tWrite a Python program to find sum of elements in list?"
   ]
  },
  {
   "cell_type": "code",
   "execution_count": 2,
   "id": "98e616e3",
   "metadata": {},
   "outputs": [
    {
     "name": "stdout",
     "output_type": "stream",
     "text": [
      "Enter the elements of list3 2 4 3 6 7\n",
      "Elements of list: \n",
      "3 2 4 3 6 7 \n",
      "Sum of all the elements of list:  25\n"
     ]
    }
   ],
   "source": [
    "list1=list(map(int,input(\"Enter the elements of list\").split()))\n",
    "print(\"Elements of list: \")\n",
    "for i in list1:\n",
    "    print(i,end=\" \")\n",
    "print(\"\\nSum of all the elements of list: \",sum(list1))"
   ]
  },
  {
   "cell_type": "markdown",
   "id": "79c50e42",
   "metadata": {},
   "source": [
    "# 2.\tWrite a Python program to  Multiply all numbers in the list?"
   ]
  },
  {
   "cell_type": "code",
   "execution_count": 5,
   "id": "b3be02da",
   "metadata": {},
   "outputs": [
    {
     "name": "stdout",
     "output_type": "stream",
     "text": [
      "Enter the elements of list1 2 3 4 5\n",
      "Elements of list: \n",
      "1 2 3 4 5 \n",
      "Multiplication of all the elements of list:  120\n"
     ]
    }
   ],
   "source": [
    "import math\n",
    "list1=list(map(int,input(\"Enter the elements of list\").split()))\n",
    "print(\"Elements of list: \")\n",
    "for i in list1:\n",
    "    print(i,end=\" \")\n",
    "print(\"\\nMultiplication of all the elements of list: \",math.prod(list1))"
   ]
  },
  {
   "cell_type": "markdown",
   "id": "a9a53f2d",
   "metadata": {},
   "source": [
    "# 3.\tWrite a Python program to find smallest number in a list?"
   ]
  },
  {
   "cell_type": "code",
   "execution_count": 7,
   "id": "3c59fd8e",
   "metadata": {},
   "outputs": [
    {
     "name": "stdout",
     "output_type": "stream",
     "text": [
      "Enter the elements of list9 4 5 0 6 1 4 2\n",
      "Elements of list: \n",
      "9 4 5 0 6 1 4 2 \n",
      "Smallest of all the elements of list:  0\n"
     ]
    }
   ],
   "source": [
    "list1=list(map(int,input(\"Enter the elements of list\").split()))\n",
    "print(\"Elements of list: \")\n",
    "for i in list1:\n",
    "    print(i,end=\" \")\n",
    "print(\"\\nSmallest of all the elements of list: \",min(list1))"
   ]
  },
  {
   "cell_type": "markdown",
   "id": "6c829774",
   "metadata": {},
   "source": [
    "# 4.\tWrite a Python program to find largest number in a list?"
   ]
  },
  {
   "cell_type": "code",
   "execution_count": 8,
   "id": "6f2b8c2b",
   "metadata": {},
   "outputs": [
    {
     "name": "stdout",
     "output_type": "stream",
     "text": [
      "Enter the elements of list9 6 7 3 4 2 22 34 5 5\n",
      "Elements of list: \n",
      "9 6 7 3 4 2 22 34 5 5 \n",
      "Largest of all the elements of list:  34\n"
     ]
    }
   ],
   "source": [
    "list1=list(map(int,input(\"Enter the elements of list\").split()))\n",
    "print(\"Elements of list: \")\n",
    "for i in list1:\n",
    "    print(i,end=\" \")\n",
    "print(\"\\nLargest of all the elements of list: \",max(list1))"
   ]
  },
  {
   "cell_type": "markdown",
   "id": "1196bbef",
   "metadata": {},
   "source": [
    "# 5.\tWrite a Python program to find second largest number in a list?"
   ]
  },
  {
   "cell_type": "code",
   "execution_count": 12,
   "id": "d4a330e1",
   "metadata": {},
   "outputs": [
    {
     "name": "stdout",
     "output_type": "stream",
     "text": [
      "Enter the elements of list3 4 1 2 7 7 8 8 8 3 2 1\n",
      "Elements of list: \n",
      "3 4 1 2 7 7 8 8 8 3 2 1 \n",
      "Second Largest of all the elements of list:  7\n"
     ]
    }
   ],
   "source": [
    "list1=list(map(int,input(\"Enter the elements of list\").split()))\n",
    "print(\"Elements of list: \")\n",
    "for i in list1:\n",
    "    print(i,end=\" \")\n",
    "\n",
    "list1.sort()\n",
    "setlist=set(list1)\n",
    "list2=list(setlist)\n",
    "print(\"\\nSecond Largest of all the elements of list: \",list2[-2])"
   ]
  },
  {
   "cell_type": "markdown",
   "id": "8763908b",
   "metadata": {},
   "source": [
    "# 6.\tWrite a Python program to find N largest elements from a list?"
   ]
  },
  {
   "cell_type": "code",
   "execution_count": 2,
   "id": "8c459e27",
   "metadata": {},
   "outputs": [
    {
     "name": "stdout",
     "output_type": "stream",
     "text": [
      "Enter the elements of list3 4 6 7 3\n",
      "Elements of list: \n",
      "3 4 6 7 3 Enter the number of largest element to find3\n",
      "\n",
      " 3  largest element in list are: \n",
      "7 6 4 "
     ]
    }
   ],
   "source": [
    "list1=list(map(int,input(\"Enter the elements of list\").split()))\n",
    "print(\"Elements of list: \")\n",
    "for i in list1:\n",
    "    print(i,end=\" \")\n",
    "\n",
    "#sorting list\n",
    "list1.sort()\n",
    "\n",
    "#storing in set to store unique values\n",
    "setlist=set(list1)\n",
    "\n",
    "#again storing to list\n",
    "list2=list(setlist)\n",
    "list2.sort()\n",
    "#max_list to store n largest number of list\n",
    "max_list=list()\n",
    "n=int(input(\"Enter the number of largest element to find\"))\n",
    "for i in range(n):\n",
    "    max_list.append(max(list2))\n",
    "    list2.remove(max(list2))\n",
    "print(\"\\n\",n,\" largest element in list are: \")\n",
    "for i in max_list:\n",
    "    print(i,end=\" \")"
   ]
  },
  {
   "cell_type": "markdown",
   "id": "a8ff5529",
   "metadata": {},
   "source": [
    "# 7.\tWrite a Python program to print even numbers in a list?"
   ]
  },
  {
   "cell_type": "code",
   "execution_count": 24,
   "id": "0d59a7d6",
   "metadata": {},
   "outputs": [
    {
     "name": "stdout",
     "output_type": "stream",
     "text": [
      "Enter the elements of list1 2 3 4 5 6 7 8\n",
      "Elements of list: \n",
      "1 2 3 4 5 6 7 8 Even elements of list are: \n",
      "2 4 6 8 "
     ]
    }
   ],
   "source": [
    "list1=list(map(int,input(\"Enter the elements of list\").split()))\n",
    "print(\"Elements of list: \")\n",
    "for i in list1:\n",
    "    print(i,end=\" \")\n",
    "    \n",
    "    \n",
    "even_list=list()\n",
    "for i in list1:\n",
    "    if(i%2==0):\n",
    "        even_list.append(i)\n",
    "        \n",
    "print(\"Even elements of list are: \")\n",
    "for i in even_list:\n",
    "    print(i,end=\" \")"
   ]
  },
  {
   "cell_type": "markdown",
   "id": "07e4b285",
   "metadata": {},
   "source": [
    "# 8.\tWrite a Python program to print odd numbers in a List?"
   ]
  },
  {
   "cell_type": "code",
   "execution_count": 26,
   "id": "cb822f82",
   "metadata": {},
   "outputs": [
    {
     "name": "stdout",
     "output_type": "stream",
     "text": [
      "Enter the elements of list1 2 3 4 5 6 7 8 9\n",
      "Elements of list: \n",
      "1 2 3 4 5 6 7 8 9 Even elements of list are: \n",
      "1 3 5 7 9 "
     ]
    }
   ],
   "source": [
    "list1=list(map(int,input(\"Enter the elements of list\").split()))\n",
    "print(\"Elements of list: \")\n",
    "for i in list1:\n",
    "    print(i,end=\" \")\n",
    "    \n",
    "    \n",
    "odd_list=list()\n",
    "for i in list1:\n",
    "    if(i%2!=0):\n",
    "        odd_list.append(i)\n",
    "        \n",
    "print(\"Even elements of list are: \")\n",
    "for i in odd_list:\n",
    "    print(i,end=\" \")"
   ]
  },
  {
   "cell_type": "markdown",
   "id": "3fa29464",
   "metadata": {},
   "source": [
    "# 9.\tWrite a Python program to Remove empty List from List?"
   ]
  },
  {
   "cell_type": "code",
   "execution_count": 19,
   "id": "cbe44ef5",
   "metadata": {},
   "outputs": [
    {
     "name": "stdout",
     "output_type": "stream",
     "text": [
      "Enter the element of the list\n",
      "Enter 1 to enter the more list or else enter 0: 1\n",
      "Enter the element of the list\n",
      "Enter 1 to enter the more list or else enter 0: 1\n",
      "Enter the element of the list\n",
      "Enter 1 to enter the more list or else enter 0: 1\n",
      "Enter the element of the list2 5\n",
      "Enter 1 to enter the more list or else enter 0: 1\n",
      "Enter the element of the list5 3\n",
      "Enter 1 to enter the more list or else enter 0: 1\n",
      "Enter the element of the list\n",
      "Enter 1 to enter the more list or else enter 0: 1\n",
      "Enter the element of the list6 8 4\n",
      "Enter 1 to enter the more list or else enter 0: 0\n",
      "List:  [[], [], [], [2, 5], [5, 3], [], [6, 8, 4]]\n",
      "List after removing empty list from it:  [[2, 5], [5, 3], [6, 8, 4]]\n"
     ]
    }
   ],
   "source": [
    "master_list=list()\n",
    "i=1\n",
    "while(i==1):\n",
    "    list1=list(map(int,input(\"Enter the element of the list\").split()));\n",
    "    master_list.append(list1)\n",
    "    i=(int)(input(\"Enter 1 to enter the more list or else enter 0: \"))\n",
    "    \n",
    "print(\"List: \",master_list)\n",
    "empty_list=list()\n",
    "for i in master_list:\n",
    "    if(len(i)==0):\n",
    "        empty_list.append(i)\n",
    "\n",
    "for i in empty_list:\n",
    "    master_list.remove(i)\n",
    "        \n",
    "print(\"List after removing empty list from it: \",str(master_list))\n",
    "    "
   ]
  },
  {
   "cell_type": "markdown",
   "id": "5616492e",
   "metadata": {},
   "source": [
    "# 10.\tWrite a Python program to Cloning or Copying a list?"
   ]
  },
  {
   "cell_type": "code",
   "execution_count": 1,
   "id": "03a10d84",
   "metadata": {},
   "outputs": [
    {
     "name": "stdout",
     "output_type": "stream",
     "text": [
      "Enter the element of the list3 4 5 6 7\n",
      "cloned list:  [3, 4, 5, 6, 7]\n",
      "copied list:   [3, 4, 5, 6, 7]\n"
     ]
    }
   ],
   "source": [
    "list1=list(map(int,input(\"Enter the element of the list\").split()))\n",
    "\n",
    "#cloning the element into clonelist\n",
    "clonelist=list1\n",
    "\n",
    "#Copying list1 into copylist\n",
    "copylist=list1.copy()\n",
    "\n",
    "print(\"cloned list: \",clonelist)\n",
    "\n",
    "print(\"copied list:  \",copylist)"
   ]
  },
  {
   "cell_type": "markdown",
   "id": "c16e92d6",
   "metadata": {},
   "source": [
    "# 11.\tWrite a Python program to Count occurrences of an element in a list?"
   ]
  },
  {
   "cell_type": "code",
   "execution_count": 5,
   "id": "ff2bd978",
   "metadata": {},
   "outputs": [
    {
     "name": "stdout",
     "output_type": "stream",
     "text": [
      "Enter the element of the list3 2 3 2 3 4 3 5 6 4 6 3 5 3 4\n",
      "Enter element you want to count the occurances3\n",
      "3 has occured 6\n"
     ]
    }
   ],
   "source": [
    "list1=list(map(int,input(\"Enter the element of the list\").split()))\n",
    "\n",
    "element=int(input(\"Enter element you want to count the occurances\"))\n",
    "count=0\n",
    "\n",
    "for i in list1:\n",
    "    if(i==element):\n",
    "        count+=1\n",
    "        \n",
    "print(\"{} has occured {}\".format(element,count))"
   ]
  },
  {
   "cell_type": "code",
   "execution_count": null,
   "id": "ddd919f5",
   "metadata": {},
   "outputs": [],
   "source": []
  }
 ],
 "metadata": {
  "kernelspec": {
   "display_name": "Python 3 (ipykernel)",
   "language": "python",
   "name": "python3"
  },
  "language_info": {
   "codemirror_mode": {
    "name": "ipython",
    "version": 3
   },
   "file_extension": ".py",
   "mimetype": "text/x-python",
   "name": "python",
   "nbconvert_exporter": "python",
   "pygments_lexer": "ipython3",
   "version": "3.9.7"
  }
 },
 "nbformat": 4,
 "nbformat_minor": 5
}
