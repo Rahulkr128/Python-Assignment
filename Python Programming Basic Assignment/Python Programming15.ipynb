{
 "cells": [
  {
   "cell_type": "markdown",
   "id": "db5fc1f6",
   "metadata": {},
   "source": [
    "# Question 1:\n",
    "Please write a program using generator to print the numbers which can be divisible by 5 and 7 between 0 and n in comma separated form while n is input by console.\n",
    "Example:\n",
    "If the following n is given as input to the program:\n",
    "100\n",
    "Then, the output of the program should be:\n",
    "0,35,70\n"
   ]
  },
  {
   "cell_type": "code",
   "execution_count": 49,
   "id": "41345774",
   "metadata": {},
   "outputs": [
    {
     "name": "stdout",
     "output_type": "stream",
     "text": [
      "Enter the range: 100\n",
      "0, 35, 70\n"
     ]
    }
   ],
   "source": [
    "def generator(limit):\n",
    "    for i in range(limit):\n",
    "        if(i%5==0 and i%7==0):\n",
    "            yield(i)\n",
    "       \n",
    "      \n",
    "div_list=list()\n",
    "for gen in generator(int(input(\"Enter the range: \"))):\n",
    "    div_list.append(gen)\n",
    "    \n",
    "    \n",
    "print(*div_list,sep=\", \")\n"
   ]
  },
  {
   "cell_type": "markdown",
   "id": "c4c18eb1",
   "metadata": {},
   "source": [
    "# Question 2:\n",
    "<pre>\n",
    "Please write a program using generator to print the even numbers between 0 and n in comma separated form while n is input by console.\n",
    "Example:\n",
    "If the following n is given as input to the program:\n",
    "10\n",
    "Then, the output of the program should be:\n",
    "0,2,4,6,8,10\n"
   ]
  },
  {
   "cell_type": "code",
   "execution_count": 50,
   "id": "6e5b923a",
   "metadata": {},
   "outputs": [
    {
     "name": "stdout",
     "output_type": "stream",
     "text": [
      "Enter the range: 10\n",
      "0, 2, 4, 6, 8, 10\n"
     ]
    }
   ],
   "source": [
    "def generator(limit):\n",
    "    for i in range(limit+1):\n",
    "        if(i%2==0):\n",
    "            yield(i)\n",
    "       \n",
    "      \n",
    "div_list=list()\n",
    "for gen in generator(int(input(\"Enter the range: \"))):\n",
    "    div_list.append(gen)\n",
    "    \n",
    "    \n",
    "print(*div_list,sep=\", \")\n"
   ]
  },
  {
   "cell_type": "markdown",
   "id": "7da94f2b",
   "metadata": {},
   "source": [
    "# Question 3:\n",
    "<pre>\n",
    "The Fibonacci Sequence is computed based on the following formula:\n",
    "f(n)=0 if n=0\n",
    "f(n)=1 if n=1\n",
    "f(n)=f(n-1)+f(n-2) if n>1\n",
    "Please write a program using list comprehension to print the Fibonacci Sequence in comma separated form with a given n input by console.\n",
    "Example:\n",
    "If the following n is given as input to the program:\n",
    "7\n",
    "\n",
    "Then, the output of the program should be:\n",
    "0,1,1,2,3,5,8,13\n"
   ]
  },
  {
   "cell_type": "code",
   "execution_count": 62,
   "id": "4ee2bc8f",
   "metadata": {},
   "outputs": [
    {
     "name": "stdout",
     "output_type": "stream",
     "text": [
      "0, 1, 1, 2, 3, 5, 8, 13\n"
     ]
    }
   ],
   "source": [
    "fib=[0,1]\n",
    "[fib.append(fib[k-1]+fib[k-2]) for k in range(2,7+1)]\n",
    "\n",
    "print(*fib,sep=\", \")"
   ]
  },
  {
   "cell_type": "markdown",
   "id": "657379f6",
   "metadata": {},
   "source": [
    "# Question 4:\n",
    "<pre>\n",
    "Assuming that we have some email addresses in the \"username@companyname.com\" format, please write program to print the user name of a given email address. Both user names and company names are composed of letters only.\n",
    "Example:\n",
    "If the following email address is given as input to the program:\n",
    "john@google.com\n",
    "Then, the output of the program should be:\n",
    "john\n"
   ]
  },
  {
   "cell_type": "code",
   "execution_count": 64,
   "id": "a3bebdee",
   "metadata": {},
   "outputs": [
    {
     "name": "stdout",
     "output_type": "stream",
     "text": [
      "Enter the email address you want to check username\n",
      " Enter multiple email address in , seperated\n",
      "john@google.com, Ineuron@gmail.com\n",
      "john@google.com: john\n",
      " Ineuron@gmail.com:  Ineuron\n"
     ]
    }
   ],
   "source": [
    "email=map(str,input(\"Enter the email address you want to check username\\n Enter multiple email address in , seperated\\n\").split(\",\"))\n",
    "for i in email:\n",
    "    j=i.split('@')\n",
    "    print(f\"{i}: {j[0]}\")\n",
    "    \n",
    "    "
   ]
  },
  {
   "cell_type": "markdown",
   "id": "1c71fe29",
   "metadata": {},
   "source": [
    "# Question 5:\n",
    "<pre>\n",
    "Define a class named Shape and its subclass Square. The Square class has an init function which takes a length as argument. Both classes have a area function which can print the area of the shape where Shape's area is 0 by default.\n"
   ]
  },
  {
   "cell_type": "code",
   "execution_count": 1,
   "id": "d35b99fa",
   "metadata": {},
   "outputs": [
    {
     "name": "stdout",
     "output_type": "stream",
     "text": [
      "Enter length of square8\n",
      "Square length:  64\n"
     ]
    }
   ],
   "source": [
    "class Shape:\n",
    "    length=0\n",
    "    def area(self):\n",
    "        self.area=length*2\n",
    "        print(\"Shape area: \",self.area)\n",
    "        \n",
    "class Square(Shape):\n",
    "    def __init__(self,length):\n",
    "        self.length=length\n",
    "        \n",
    "    def area(self):\n",
    "        self.area=length**2\n",
    "        print(\"Square length: \",self.area)\n",
    "        \n",
    "        \n",
    "length=int(input(\"Enter length of square\"))\n",
    "\n",
    "sq=Square(length)\n",
    "sq.area()\n",
    "        "
   ]
  },
  {
   "cell_type": "code",
   "execution_count": null,
   "id": "b5527394",
   "metadata": {},
   "outputs": [],
   "source": []
  }
 ],
 "metadata": {
  "kernelspec": {
   "display_name": "Python 3 (ipykernel)",
   "language": "python",
   "name": "python3"
  },
  "language_info": {
   "codemirror_mode": {
    "name": "ipython",
    "version": 3
   },
   "file_extension": ".py",
   "mimetype": "text/x-python",
   "name": "python",
   "nbconvert_exporter": "python",
   "pygments_lexer": "ipython3",
   "version": "3.9.7"
  }
 },
 "nbformat": 4,
 "nbformat_minor": 5
}
