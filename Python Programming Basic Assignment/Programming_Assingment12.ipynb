{
 "cells": [
  {
   "cell_type": "markdown",
   "id": "e018e26b",
   "metadata": {},
   "source": [
    "# 1.\tWrite a Python program to Extract Unique values dictionary values?"
   ]
  },
  {
   "cell_type": "code",
   "execution_count": 6,
   "id": "99e88fa1",
   "metadata": {},
   "outputs": [
    {
     "name": "stdout",
     "output_type": "stream",
     "text": [
      "Enter the key: one\n",
      "Enter the value: 1 2 3\n",
      "Enter 1 to enter more dictionary key's and values or 0 to exist1\n",
      "Enter the key: two\n",
      "Enter the value: 2 3 4\n",
      "Enter 1 to enter more dictionary key's and values or 0 to exist1\n",
      "Enter the key: three\n",
      "Enter the value: 3 4 5\n",
      "Enter 1 to enter more dictionary key's and values or 0 to exist0\n",
      "Original dictionary:  {'one': ['1', '2', '3'], 'two': ['2', '3', '4'], 'three': ['3', '4', '5']}\n",
      "Unique values inside dictionary are:  {'2', '4', '1', '3', '5'}\n"
     ]
    }
   ],
   "source": [
    "my_dictionary=dict()\n",
    "i=1\n",
    "while(i):\n",
    "    key=input(\"Enter the key: \")\n",
    "    values=input(\"Enter the value: \")\n",
    "    my_dictionary[key]=values.split()\n",
    "    i=int(input(\"Enter 1 to enter more dictionary key's and values or 0 to exist \"))\n",
    "    \n",
    "    \n",
    "print(\"Original dictionary: \",str(my_dictionary))\n",
    "\n",
    "unique_values=list({ele for value in my_dictionary.values() for ele in value})\n",
    "\n",
    "print(\"Unique values inside dictionary are: \",str(unique_values))\n",
    "    "
   ]
  },
  {
   "cell_type": "markdown",
   "id": "2e185cb4",
   "metadata": {},
   "source": [
    "# 2.\tWrite a Python program to find the sum of all items in a dictionary?"
   ]
  },
  {
   "cell_type": "code",
   "execution_count": 1,
   "id": "32fab420",
   "metadata": {},
   "outputs": [
    {
     "name": "stdout",
     "output_type": "stream",
     "text": [
      "Enter the key: one\n",
      "Enter the numeric value: 1 2 3\n",
      "Enter 1 to enter more dictionary key's and values or 0 to exist1\n",
      "Enter the key: two\n",
      "Enter the numeric value: 2 3 4\n",
      "Enter 1 to enter more dictionary key's and values or 0 to exist1\n",
      "Enter the key: three\n",
      "Enter the numeric value: 5 6\n",
      "Enter 1 to enter more dictionary key's and values or 0 to exist0\n",
      "Original dictionary:  {'one': [1, 2, 3], 'two': [2, 3, 4], 'three': [5, 6]}\n",
      "Sum of values:  26\n"
     ]
    }
   ],
   "source": [
    "my_dictionary=dict()\n",
    "i=1\n",
    "while(i):\n",
    "    key=input(\"Enter the key: \")\n",
    "    values=list(map(int,input(\"Enter the numeric value: \").split()))\n",
    "    my_dictionary[key]=values\n",
    "    i=int(input(\"Enter 1 to enter more dictionary key's and values or 0 to exist\"))\n",
    "    \n",
    "    \n",
    "print(\"Original dictionary: \",str(my_dictionary))\n",
    "\n",
    "sum=0\n",
    "\n",
    "for values in my_dictionary.values():\n",
    "    for ele in values:\n",
    "        sum+=ele\n",
    "        \n",
    "print(\"Sum of values: \",sum)"
   ]
  },
  {
   "cell_type": "markdown",
   "id": "875ad64b",
   "metadata": {},
   "source": [
    "# 3.\tWrite a Python program to Merging two Dictionaries?"
   ]
  },
  {
   "cell_type": "code",
   "execution_count": 2,
   "id": "19a92787",
   "metadata": {},
   "outputs": [
    {
     "name": "stdout",
     "output_type": "stream",
     "text": [
      "Enter the key: one\n",
      "Enter the numeric value: 2 3 4\n",
      "Enter 1 to enter more dictionary key's and values or 0 to exist1\n",
      "Enter the key: two\n",
      "Enter the numeric value: 2 3 4\n",
      "Enter 1 to enter more dictionary key's and values or 0 to exist0\n",
      "Enter the key: one\n",
      "Enter the numeric value: 4 5 6\n",
      "Enter 1 to enter more dictionary key's and values or 0 to exist0\n",
      "Dictionary 1:  {'one': [2, 3, 4], 'two': [2, 3, 4]}\n",
      "Dictionary 2:  {'one': [4, 5, 6]}\n",
      "The updated dictionary value:  {'one': [4, 5, 6], 'two': [2, 3, 4]}\n"
     ]
    }
   ],
   "source": [
    "my_dictionary_1=dict()\n",
    "my_dictionary_2=dict()\n",
    "i=1\n",
    "while(i):\n",
    "    key=input(\"Enter the key: \")\n",
    "    values=list(map(int,input(\"Enter the numeric value: \").split()))\n",
    "    my_dictionary_1[key]=values\n",
    "    i=int(input(\"Enter 1 to enter more dictionary key's and values or 0 to exist\"))\n",
    "    \n",
    "    \n",
    "i=1\n",
    "while(i):\n",
    "    key=input(\"Enter the key: \")\n",
    "    values=list(map(int,input(\"Enter the numeric value: \").split()))\n",
    "    my_dictionary_2[key]=values\n",
    "    i=int(input(\"Enter 1 to enter more dictionary key's and values or 0 to exist\"))\n",
    "    \n",
    "print(\"Dictionary 1: \",str(my_dictionary_1))\n",
    "print(\"Dictionary 2: \",str(my_dictionary_2))\n",
    "my_dictionary_1.update(my_dictionary_2)\n",
    "\n",
    "print(\"The updated dictionary value: \",my_dictionary_1)"
   ]
  },
  {
   "cell_type": "markdown",
   "id": "96f305c3",
   "metadata": {},
   "source": [
    "# 4.\tWrite a Python program to convert key-values list to flat dictionary?"
   ]
  },
  {
   "cell_type": "code",
   "execution_count": 3,
   "id": "733b3c72",
   "metadata": {},
   "outputs": [
    {
     "name": "stdout",
     "output_type": "stream",
     "text": [
      "Orginal dictionary:  {'day': [1, 2, 3, 4, 5, 6, 7], 'name': ['Monday', 'Tuesday', 'Wednesday', 'Thrusday', 'Friday', 'Saturday', 'Sunday']}\n",
      "flattened dictionary:  {1: 'Monday', 2: 'Tuesday', 3: 'Wednesday', 4: 'Thrusday', 5: 'Friday', 6: 'Saturday', 7: 'Sunday'}\n"
     ]
    }
   ],
   "source": [
    "my_dictionary={\"day\":[1,2,3,4,5,6,7],\"name\":[\"Monday\",\"Tuesday\",\"Wednesday\",\"Thrusday\",\"Friday\",\"Saturday\",\"Sunday\"]}\n",
    "\n",
    "print(\"Orginal dictionary: \",my_dictionary)\n",
    "\n",
    "flattened_dictionary=dict(zip(my_dictionary['day'],my_dictionary['name']))\n",
    "\n",
    "print(\"flattened dictionary: \",flattened_dictionary)"
   ]
  },
  {
   "cell_type": "markdown",
   "id": "019055f2",
   "metadata": {},
   "source": [
    "# 5.\tWrite a Python program to insertion at the beginning in OrderedDict?"
   ]
  },
  {
   "cell_type": "code",
   "execution_count": 17,
   "id": "e4d89a6b",
   "metadata": {},
   "outputs": [
    {
     "name": "stdout",
     "output_type": "stream",
     "text": [
      "Enter the key: one\n",
      "Enter the value for one : 1\n",
      "Enter 1 to enter more dictionary key's and values or 0 to exist 1\n",
      "Enter the key: two\n",
      "Enter the value for two : 2\n",
      "Enter 1 to enter more dictionary key's and values or 0 to exist 0\n",
      "Enter key three\n",
      "Enter value for three: 3\n",
      "Resultant Dictionary : OrderedDict([('three', '3'), ('one', '1'), ('two', '2')])\n"
     ]
    }
   ],
   "source": [
    "from collections import OrderedDict\n",
    "\n",
    "my_dictionary=OrderedDict()\n",
    "i=1\n",
    "while(i):\n",
    "    key=input(\"Enter the key: \")\n",
    "    values=input(\"Enter the value for {} : \".format(key))\n",
    "    my_dictionary[key]=values\n",
    "    i=int(input(\"Enter 1 to enter more dictionary key's and values or 0 to exist \"))\n",
    "    \n",
    "key=input(\"Enter key \")\n",
    "value=input(\"Enter value for {}: \".format(key))\n",
    "my_dictionary[key]=value\n",
    "my_dictionary.move_to_end(key, last = False)\n",
    "\n",
    "print (\"Resultant Dictionary : \"+str(my_dictionary))"
   ]
  },
  {
   "cell_type": "markdown",
   "id": "04228574",
   "metadata": {},
   "source": [
    "# 6.\tWrite a Python program to check order of character in string using OrderedDict()?"
   ]
  },
  {
   "cell_type": "code",
   "execution_count": 20,
   "id": "be4a0fa5",
   "metadata": {},
   "outputs": [
    {
     "name": "stdout",
     "output_type": "stream",
     "text": [
      "Enter the string: jupyter\n",
      "Enter the pattern to check: pt\n",
      "Entered string is in pattern order\n"
     ]
    }
   ],
   "source": [
    "from collections import OrderedDict \n",
    "  \n",
    "def checkOrder(input, pattern): \n",
    "      \n",
    "    dict = OrderedDict.fromkeys(input) \n",
    "\n",
    "    ptrlen = 0\n",
    "    for key,value in dict.items(): \n",
    "        if (key == pattern[ptrlen]): \n",
    "            ptrlen = ptrlen + 1\n",
    "          \n",
    "        if (ptrlen == (len(pattern))): \n",
    "            return True\n",
    "        \n",
    "    return False\n",
    "\n",
    "\n",
    "input_string=input(\"Enter the string: \")\n",
    "input_pattern=input(\"Enter the pattern to check: \")\n",
    "\n",
    "result=checkOrder(input_string,input_string)\n",
    "\n",
    "if(result):\n",
    "    print(\"Entered string is in pattern order\")\n",
    "else:\n",
    "    print(\"Entered string is not in pattern order\")"
   ]
  },
  {
   "cell_type": "markdown",
   "id": "3bc07e9b",
   "metadata": {},
   "source": [
    "# 7.\tWrite a Python program to sort Python Dictionaries by Key or Value?"
   ]
  },
  {
   "cell_type": "code",
   "execution_count": 24,
   "id": "cc57feaf",
   "metadata": {},
   "outputs": [
    {
     "name": "stdout",
     "output_type": "stream",
     "text": [
      "Enter the key: 4\n",
      "Enter the value for 4 : 4\n",
      "Enter 1 to enter more dictionary key's and values or 0 to exist 1\n",
      "Enter the key: 2\n",
      "Enter the value for 2 : 2\n",
      "Enter 1 to enter more dictionary key's and values or 0 to exist 1\n",
      "Enter the key: 3\n",
      "Enter the value for 3 : 3\n",
      "Enter 1 to enter more dictionary key's and values or 0 to exist 1\n",
      "Enter the key: 1\n",
      "Enter the value for 1 : 1\n",
      "Enter 1 to enter more dictionary key's and values or 0 to exist 0\n",
      "Orginal dictionary:  {'4': '4', '2': '2', '3': '3', '1': '1'}\n",
      "Sorted Dictionary: \n",
      "('1', '1') ('2', '2') ('3', '3') ('4', '4') "
     ]
    }
   ],
   "source": [
    "my_dict=dict()\n",
    "i=1\n",
    "while(i):\n",
    "    key=input(\"Enter the key: \")\n",
    "    values=input(\"Enter the value for {} : \".format(key))\n",
    "    my_dict[key]=values\n",
    "    i=int(input(\"Enter 1 to enter more dictionary key's and values or 0 to exist \"))\n",
    "    \n",
    "print(\"Orginal dictionary: \",str(my_dict))\n",
    "print(\"Sorted Dictionary: \")\n",
    "\n",
    "for i in sorted (my_dict) :\n",
    "    print ((i, my_dict[i]), end =\" \")"
   ]
  },
  {
   "cell_type": "code",
   "execution_count": null,
   "id": "4c4bcdf0",
   "metadata": {},
   "outputs": [],
   "source": []
  }
 ],
 "metadata": {
  "kernelspec": {
   "display_name": "Python 3 (ipykernel)",
   "language": "python",
   "name": "python3"
  },
  "language_info": {
   "codemirror_mode": {
    "name": "ipython",
    "version": 3
   },
   "file_extension": ".py",
   "mimetype": "text/x-python",
   "name": "python",
   "nbconvert_exporter": "python",
   "pygments_lexer": "ipython3",
   "version": "3.9.7"
  }
 },
 "nbformat": 4,
 "nbformat_minor": 5
}
