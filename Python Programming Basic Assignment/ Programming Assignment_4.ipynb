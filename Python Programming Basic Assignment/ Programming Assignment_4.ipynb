{
 "cells": [
  {
   "cell_type": "markdown",
   "id": "2f3d210d",
   "metadata": {},
   "source": [
    "# 1.\tWrite a Python Program to Find the Factorial of a Number?\n"
   ]
  },
  {
   "cell_type": "code",
   "execution_count": 3,
   "id": "c32fe0f2",
   "metadata": {},
   "outputs": [
    {
     "name": "stdout",
     "output_type": "stream",
     "text": [
      "Enter the number5\n",
      "Factorial of  5  is  120\n"
     ]
    }
   ],
   "source": [
    "def factorial(num):\n",
    "    if(num<0):\n",
    "        return 0\n",
    "    if(num==0 or num==1):\n",
    "        return 1\n",
    "    fact=1\n",
    "    while(num>1):\n",
    "        fact*=num\n",
    "        num-=1\n",
    "    return fact\n",
    "\n",
    "num=int(input(\"Enter the number\"))\n",
    "print(\"Factorial of \",num,\" is \",factorial(num))"
   ]
  },
  {
   "cell_type": "markdown",
   "id": "90f2e52a",
   "metadata": {},
   "source": [
    "# 2.\tWrite a Python Program to Display the multiplication Table?"
   ]
  },
  {
   "cell_type": "code",
   "execution_count": 8,
   "id": "14af7daf",
   "metadata": {},
   "outputs": [
    {
     "name": "stdout",
     "output_type": "stream",
     "text": [
      "Enter the number 34\n",
      "34 x 1 =  34\n",
      "34 x 2 =  68\n",
      "34 x 3 =  102\n",
      "34 x 4 =  136\n",
      "34 x 5 =  170\n",
      "34 x 6 =  204\n",
      "34 x 7 =  238\n",
      "34 x 8 =  272\n",
      "34 x 9 =  306\n",
      "34 x 10 =  340\n"
     ]
    }
   ],
   "source": [
    "def multiplication_table(num):\n",
    "    for i in range(1,11):\n",
    "        print(num,\"x\",i,\"= \",num*i)\n",
    "        \n",
    "num=int(input(\"Enter the number \"))\n",
    "multiplication_table(num)"
   ]
  },
  {
   "cell_type": "markdown",
   "id": "9d3b607f",
   "metadata": {},
   "source": [
    "# 3.\tWrite a Python Program to Print the Fibonacci sequence?"
   ]
  },
  {
   "cell_type": "code",
   "execution_count": 2,
   "id": "9a46b090",
   "metadata": {},
   "outputs": [
    {
     "name": "stdout",
     "output_type": "stream",
     "text": [
      "Enter nth term for fibonacci series10\n",
      "0\n",
      "1\n",
      "1\n",
      "2\n",
      "3\n",
      "5\n",
      "8\n",
      "13\n",
      "21\n",
      "34\n"
     ]
    }
   ],
   "source": [
    "def fibonacci(n):\n",
    "    if n<=1:\n",
    "        return n\n",
    "    else:\n",
    "        return fibonacci(n-1)+fibonacci(n-2)\n",
    "    \n",
    "term=int(input(\"Enter nth term for fibonacci series\"))\n",
    "\n",
    "for i in range(term):\n",
    "    print(fibonacci(i))\n",
    "    "
   ]
  },
  {
   "cell_type": "markdown",
   "id": "a1d42f04",
   "metadata": {},
   "source": [
    "# 4.\tWrite a Python Program to Check Armstrong Number?"
   ]
  },
  {
   "cell_type": "code",
   "execution_count": 8,
   "id": "712cea99",
   "metadata": {},
   "outputs": [
    {
     "name": "stdout",
     "output_type": "stream",
     "text": [
      "Enter the number1234\n",
      "Not a armgstrong number 354\n"
     ]
    }
   ],
   "source": [
    "n=int(input(\"Enter the number\"))\n",
    "anum=n\n",
    "l=str(n)\n",
    "leng=len(l)\n",
    "sum=0\n",
    "while(anum!=0):\n",
    "    reminder=anum%10\n",
    "    sum=sum+ reminder**leng\n",
    "    anum=int(anum/10)\n",
    "    \n",
    "if(n==sum):\n",
    "    print(n,\" It's a armgstrong number\")\n",
    "else:\n",
    "    print(\"Not a armgstrong number\",sum)\n",
    "\n",
    "\n",
    "    \n",
    "    "
   ]
  },
  {
   "cell_type": "markdown",
   "id": "f03df8c0",
   "metadata": {},
   "source": [
    "# 5.\tWrite a Python Program to Find Armstrong Number in an Interval?"
   ]
  },
  {
   "cell_type": "code",
   "execution_count": 4,
   "id": "204b3298",
   "metadata": {},
   "outputs": [
    {
     "name": "stdout",
     "output_type": "stream",
     "text": [
      "The list of armstrong number in range 100 to 10000 are :  [153, 370, 371, 407, 1634, 8208, 9474]\n"
     ]
    }
   ],
   "source": [
    "\n",
    "def Armstrong_number(n):\n",
    "    anum=n\n",
    "    l=str(n)\n",
    "    leng=len(l)\n",
    "    sum=0\n",
    "    while(anum!=0):\n",
    "        reminder=anum%10\n",
    "        sum=sum+ reminder**leng\n",
    "        anum=int(anum/10)\n",
    "    \n",
    "    return n==sum\n",
    "\n",
    "a_list=list()\n",
    "for i in range(100,10000):\n",
    "    if(Armstrong_number(i)):\n",
    "        a_list.append(i)\n",
    "        \n",
    "        \n",
    "print(\"The list of armstrong number in range 100 to 10000 are : \",a_list)\n",
    "    "
   ]
  },
  {
   "cell_type": "markdown",
   "id": "458c19d1",
   "metadata": {},
   "source": [
    "# 6.\tWrite a Python Program to Find the Sum of Natural Numbers?"
   ]
  },
  {
   "cell_type": "code",
   "execution_count": 5,
   "id": "2a732816",
   "metadata": {},
   "outputs": [
    {
     "name": "stdout",
     "output_type": "stream",
     "text": [
      "Enter the nterm100\n",
      "Sum of first  100  term is:  5050\n"
     ]
    }
   ],
   "source": [
    "def sum_natural_number(n):\n",
    "    sum=0\n",
    "    for i in range(n+1):\n",
    "        sum+=i\n",
    "    return sum\n",
    "\n",
    "nterm=int(input(\"Enter the nterm\"))\n",
    "print(\"Sum of first \",nterm, \" term is: \",sum_natural_number(nterm))"
   ]
  },
  {
   "cell_type": "code",
   "execution_count": null,
   "id": "929227d9",
   "metadata": {},
   "outputs": [],
   "source": []
  }
 ],
 "metadata": {
  "kernelspec": {
   "display_name": "Python 3 (ipykernel)",
   "language": "python",
   "name": "python3"
  },
  "language_info": {
   "codemirror_mode": {
    "name": "ipython",
    "version": 3
   },
   "file_extension": ".py",
   "mimetype": "text/x-python",
   "name": "python",
   "nbconvert_exporter": "python",
   "pygments_lexer": "ipython3",
   "version": "3.9.7"
  }
 },
 "nbformat": 4,
 "nbformat_minor": 5
}
