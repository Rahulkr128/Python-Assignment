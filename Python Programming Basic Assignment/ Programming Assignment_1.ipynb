{
 "cells": [
  {
   "cell_type": "markdown",
   "id": "8e2cbeac",
   "metadata": {},
   "source": [
    "# 1.\tWrite a Python program to print \"Hello Python\"?"
   ]
  },
  {
   "cell_type": "code",
   "execution_count": 1,
   "id": "20401d0b",
   "metadata": {},
   "outputs": [
    {
     "name": "stdout",
     "output_type": "stream",
     "text": [
      "Hello Python\n"
     ]
    }
   ],
   "source": [
    "print( \"Hello Python\")"
   ]
  },
  {
   "cell_type": "markdown",
   "id": "b55dbc74",
   "metadata": {},
   "source": [
    "# 2.\tWrite a Python program to do arithmetical operations addition and division.?"
   ]
  },
  {
   "cell_type": "code",
   "execution_count": 4,
   "id": "acf42d4f",
   "metadata": {},
   "outputs": [
    {
     "name": "stdout",
     "output_type": "stream",
     "text": [
      "Enter first number10\n",
      "Enter Second number2\n",
      "Addition of two number:  12\n",
      "Substration of two number:  8\n",
      "multiplication of two number:  20\n",
      "Division of two number:  5.0\n"
     ]
    }
   ],
   "source": [
    "def add(x , y):\n",
    "    return x+y\n",
    "\n",
    "def sub(x,y):\n",
    "    return x-y\n",
    "\n",
    "def multiply(x,y):\n",
    "    return x*y\n",
    "\n",
    "def division(x,y):\n",
    "    if(y==0):\n",
    "        print(\"division by zero erro\")\n",
    "        return\n",
    "    return x/y\n",
    "\n",
    "x=int(input(\"Enter first number\"))\n",
    "y=int(input(\"Enter Second number\"))\n",
    "print(\"Addition of two number: \", add(x,y))\n",
    "print(\"Substration of two number: \", sub(x,y))\n",
    "print(\"multiplication of two number: \", multiply(x,y))\n",
    "print(\"Division of two number: \", division(x,y))"
   ]
  },
  {
   "cell_type": "markdown",
   "id": "2de5da94",
   "metadata": {},
   "source": [
    "# 3.\tWrite a Python program to find the area of a triangle?"
   ]
  },
  {
   "cell_type": "code",
   "execution_count": 6,
   "id": "bccf7d01",
   "metadata": {},
   "outputs": [
    {
     "name": "stdout",
     "output_type": "stream",
     "text": [
      "Enter first side of the triangle7\n",
      "Enter second side of the triangle3\n",
      "Enter third side of the triangle5\n",
      "Area of the trainangle:  6.49519052838329\n"
     ]
    }
   ],
   "source": [
    "def TriangleArea(a,b,c):\n",
    "    \n",
    "    if(a <= 0 or b <= 0 or c <= 0 or (a+b <= c) or (a+c <=b) or (b+c <=a) ):\n",
    "        print('Not a valid triangle') \n",
    "        return\n",
    "    \n",
    "    s = (a + b + c) / 2\n",
    "    area = (s * (s - a) * (s - b) * (s - c)) ** 0.5\n",
    "    return area\n",
    "\n",
    "a=int(input(\"Enter first side of the triangle\"))\n",
    "b=int(input(\"Enter second side of the triangle\"))\n",
    "c=int(input(\"Enter third side of the triangle\"))\n",
    "print(\"Area of the trainangle: \",TriangleArea(a,b,c))"
   ]
  },
  {
   "cell_type": "markdown",
   "id": "8b6d61aa",
   "metadata": {},
   "source": [
    "# 4.\tWrite a Python program to swap two variables?"
   ]
  },
  {
   "cell_type": "code",
   "execution_count": 14,
   "id": "da5016c9",
   "metadata": {},
   "outputs": [
    {
     "name": "stdout",
     "output_type": "stream",
     "text": [
      "Enter first number3\n",
      "Enter second number5\n",
      "Swapped number a: 5 b: 3\n"
     ]
    }
   ],
   "source": [
    "def swap(a,b):\n",
    "    a=a+b\n",
    "    b=a-b\n",
    "    a=a-b\n",
    "    return a,b\n",
    "\n",
    "a=int(input(\"Enter first number\"))\n",
    "b=int(input(\"Enter second number\"))\n",
    "\n",
    "a,b=swap(a,b)\n",
    "print(\"Swapped number a:\",a, \"b:\",b)"
   ]
  },
  {
   "cell_type": "markdown",
   "id": "9accf563",
   "metadata": {},
   "source": [
    "# 5.\tWrite a Python program to generate a random number?"
   ]
  },
  {
   "cell_type": "code",
   "execution_count": 18,
   "id": "d536d751",
   "metadata": {},
   "outputs": [
    {
     "name": "stdout",
     "output_type": "stream",
     "text": [
      "Random number:  21\n"
     ]
    }
   ],
   "source": [
    "import random\n",
    "\n",
    "print(\"Random number: \",random.randint(0,100))"
   ]
  },
  {
   "cell_type": "code",
   "execution_count": null,
   "id": "0306e781",
   "metadata": {},
   "outputs": [],
   "source": []
  },
  {
   "cell_type": "code",
   "execution_count": null,
   "id": "a73dea29",
   "metadata": {},
   "outputs": [],
   "source": []
  }
 ],
 "metadata": {
  "kernelspec": {
   "display_name": "Python 3 (ipykernel)",
   "language": "python",
   "name": "python3"
  },
  "language_info": {
   "codemirror_mode": {
    "name": "ipython",
    "version": 3
   },
   "file_extension": ".py",
   "mimetype": "text/x-python",
   "name": "python",
   "nbconvert_exporter": "python",
   "pygments_lexer": "ipython3",
   "version": "3.9.7"
  }
 },
 "nbformat": 4,
 "nbformat_minor": 5
}
