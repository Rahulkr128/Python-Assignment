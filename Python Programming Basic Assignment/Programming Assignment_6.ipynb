{
 "cells": [
  {
   "cell_type": "markdown",
   "id": "93e91bce",
   "metadata": {},
   "source": [
    "# 1.\tWrite a Python Program to Display Fibonacci Sequence Using Recursion?"
   ]
  },
  {
   "cell_type": "code",
   "execution_count": 1,
   "id": "666c0bb6",
   "metadata": {},
   "outputs": [
    {
     "name": "stdout",
     "output_type": "stream",
     "text": [
      "Enter nth term for fibonacci series5\n",
      "0\n",
      "1\n",
      "1\n",
      "2\n",
      "3\n"
     ]
    }
   ],
   "source": [
    "def fibonacci(n):\n",
    "    if n<=1:\n",
    "        return n\n",
    "    else:\n",
    "        return fibonacci(n-1)+fibonacci(n-2)\n",
    "    \n",
    "term=int(input(\"Enter nth term for fibonacci series\"))\n",
    "\n",
    "for i in range(term):\n",
    "    print(fibonacci(i))"
   ]
  },
  {
   "cell_type": "markdown",
   "id": "bbb85d12",
   "metadata": {},
   "source": [
    "# 2.\tWrite a Python Program to Find Factorial of Number Using Recursion?"
   ]
  },
  {
   "cell_type": "code",
   "execution_count": 4,
   "id": "0c3fcb58",
   "metadata": {},
   "outputs": [
    {
     "name": "stdout",
     "output_type": "stream",
     "text": [
      "Enter the number6\n",
      "Factorial of  6  is  720\n"
     ]
    }
   ],
   "source": [
    "def factorial(n):\n",
    "    if(n<=1):\n",
    "        return 1\n",
    "    return n*factorial(n-1)\n",
    "\n",
    "n=int(input(\"Enter the number\"))\n",
    "print(\"Factorial of \",n,\" is \",factorial(n))"
   ]
  },
  {
   "cell_type": "markdown",
   "id": "3fcabde9",
   "metadata": {},
   "source": [
    "# 3.\tWrite a Python Program to calculate your Body Mass Index?"
   ]
  },
  {
   "cell_type": "code",
   "execution_count": 10,
   "id": "1f9e3f1f",
   "metadata": {},
   "outputs": [
    {
     "name": "stdout",
     "output_type": "stream",
     "text": [
      "Enter weight in kg 80\n",
      "Enter height in meter 1.8\n",
      "BMI of the person is  24.691358024691358\n"
     ]
    }
   ],
   "source": [
    "weight=float(input(\"Enter weight in kg \"))\n",
    "height=float(input(\"Enter height in meter \"))\n",
    "\n",
    "BMI=weight/height**2\n",
    "print(\"BMI of the person is \",BMI )"
   ]
  },
  {
   "cell_type": "markdown",
   "id": "d5d12fec",
   "metadata": {},
   "source": [
    "# 4.\tWrite a Python Program to calculate the natural logarithm of any number?"
   ]
  },
  {
   "cell_type": "code",
   "execution_count": 13,
   "id": "49bf7b56",
   "metadata": {},
   "outputs": [
    {
     "name": "stdout",
     "output_type": "stream",
     "text": [
      "Enter number14\n",
      "Enter the logarithm base2\n",
      "Natural logarithm of 14  is :  3.8073549220576037\n"
     ]
    }
   ],
   "source": [
    "import math\n",
    " \n",
    "num=int(input(\"Enter number\"))\n",
    "base=int(input(\"Enter the logarithm base\"))\n",
    "print (\"Natural logarithm of\",num,\" is : \", math.log(num,base))"
   ]
  },
  {
   "cell_type": "markdown",
   "id": "52ad9e2b",
   "metadata": {},
   "source": [
    "# 5.\tWrite a Python Program for cube sum of first n natural numbers?"
   ]
  },
  {
   "cell_type": "code",
   "execution_count": 14,
   "id": "4ae97d4f",
   "metadata": {},
   "outputs": [
    {
     "name": "stdout",
     "output_type": "stream",
     "text": [
      "Enter the nterm5\n",
      "Sum of first  5  term is:  225\n"
     ]
    }
   ],
   "source": [
    "def sum_natural_number(n):\n",
    "    sum=0\n",
    "    for i in range(n+1):\n",
    "        sum+=i**3\n",
    "    return sum\n",
    "\n",
    "nterm=int(input(\"Enter the nterm\"))\n",
    "print(\"Sum of first \",nterm, \" term is: \",sum_natural_number(nterm))"
   ]
  },
  {
   "cell_type": "code",
   "execution_count": null,
   "id": "55f60f69",
   "metadata": {},
   "outputs": [],
   "source": []
  }
 ],
 "metadata": {
  "kernelspec": {
   "display_name": "Python 3 (ipykernel)",
   "language": "python",
   "name": "python3"
  },
  "language_info": {
   "codemirror_mode": {
    "name": "ipython",
    "version": 3
   },
   "file_extension": ".py",
   "mimetype": "text/x-python",
   "name": "python",
   "nbconvert_exporter": "python",
   "pygments_lexer": "ipython3",
   "version": "3.9.7"
  }
 },
 "nbformat": 4,
 "nbformat_minor": 5
}
