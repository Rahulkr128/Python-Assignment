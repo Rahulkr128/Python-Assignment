{
 "cells": [
  {
   "cell_type": "markdown",
   "id": "4f6a67b1",
   "metadata": {},
   "source": [
    "# 1.\tWrite a Python program to find words which are greater than given length k?"
   ]
  },
  {
   "cell_type": "code",
   "execution_count": 1,
   "id": "869b7d9c",
   "metadata": {},
   "outputs": [
    {
     "name": "stdout",
     "output_type": "stream",
     "text": [
      "Enter the words in single line python program to find words which are greater than given length\n",
      "Enter the lenght for words5\n",
      "the words larger than 5 are : ['python', 'program', 'words', 'which', 'greater', 'given', 'length']\n"
     ]
    }
   ],
   "source": [
    "def find_larger_word(list1,length):\n",
    "    larger_word=list()\n",
    "    for i in list1:\n",
    "        if(len(i)>=length):\n",
    "            larger_word.append(i)\n",
    "            \n",
    "    return larger_word\n",
    "            \n",
    "\n",
    "word_list=input(\"Enter the words in single line \").split()\n",
    "length=int(input(\"Enter the lenght for words\"))\n",
    "larger_word=find_larger_word(word_list,length)\n",
    "print(\"the words larger than {} are : {}\".format(length,larger_word))\n"
   ]
  },
  {
   "cell_type": "markdown",
   "id": "c0a14da0",
   "metadata": {},
   "source": [
    "# 2.\tWrite a Python program for removing i-th character from a string?"
   ]
  },
  {
   "cell_type": "code",
   "execution_count": 6,
   "id": "43cbdf4a",
   "metadata": {},
   "outputs": [
    {
     "name": "stdout",
     "output_type": "stream",
     "text": [
      "Enter the string pytthon\n",
      "Enter the index3\n",
      "String after the removing char:  python\n"
     ]
    }
   ],
   "source": [
    "def remove_char(String, index):\n",
    "        a=String[:index]\n",
    "        b=String[index+1:]\n",
    "        \n",
    "        return a+b\n",
    "    \n",
    "String=input(\"Enter the string \")\n",
    "index=int(input(\"Enter the index\"))\n",
    "print(\"String after the removing char: \",remove_char(String,index))"
   ]
  },
  {
   "cell_type": "markdown",
   "id": "1323b8bd",
   "metadata": {},
   "source": [
    "# 3.\tWrite a Python program to split and join a string?"
   ]
  },
  {
   "cell_type": "code",
   "execution_count": 16,
   "id": "bb596cfd",
   "metadata": {},
   "outputs": [
    {
     "name": "stdout",
     "output_type": "stream",
     "text": [
      "Enter the stringpython program to split and join\n",
      " String is splitted into ['python', 'program', 'to', 'split', 'and', 'join'] \n",
      " and then joined with - : python-program-to-split-and-join\n"
     ]
    }
   ],
   "source": [
    "def split_join(String):\n",
    "    split_string=String.split()\n",
    "    joined_string='-'.join(split_string)\n",
    "\n",
    "    \n",
    "    return split_string,joined_string\n",
    "\n",
    "\n",
    "String=input(\"Enter the string\")\n",
    "split_string, joined_string =split_join(String)\n",
    "\n",
    "print(\" String is splitted into {} \\n and then joined with - : {}\".format(split_string,joined_string))"
   ]
  },
  {
   "cell_type": "markdown",
   "id": "0446538e",
   "metadata": {},
   "source": [
    "# 4.\tWrite a Python to check if a given string is binary string or not?"
   ]
  },
  {
   "cell_type": "code",
   "execution_count": 19,
   "id": "c0432dd6",
   "metadata": {},
   "outputs": [
    {
     "name": "stdout",
     "output_type": "stream",
     "text": [
      "Enter the string10110db10\n",
      "Its not a Binary String\n"
     ]
    }
   ],
   "source": [
    "def check_binary_string(String):\n",
    "    binary_string=\"01\"\n",
    "    count=0\n",
    "    for i in String:\n",
    "        if i not in binary_string:\n",
    "            return False\n",
    "    \n",
    "    return True\n",
    "\n",
    "String=input(\"Enter the string\")\n",
    "result=check_binary_string(String)\n",
    "if(result):\n",
    "    print(\"Its a Binary String\")\n",
    "else:\n",
    "    print(\"Its not a Binary String\")"
   ]
  },
  {
   "cell_type": "markdown",
   "id": "0fec5929",
   "metadata": {},
   "source": [
    "# 5.\tWrite a Python program to find uncommon words from two Strings?"
   ]
  },
  {
   "cell_type": "code",
   "execution_count": 21,
   "id": "5e2c5c23",
   "metadata": {},
   "outputs": [
    {
     "name": "stdout",
     "output_type": "stream",
     "text": [
      "Enter the string 1 python program to find in strings\n",
      "Enter the 2nd String python program for uncommon words in strings\n",
      "The uncommon words in both the string are:  ['to', 'find', 'for', 'uncommon', 'words']\n"
     ]
    }
   ],
   "source": [
    "def uncommon_words(String1, String2):\n",
    "    String1_list=String1.split()\n",
    "    String2_list=String2.split()\n",
    "    uncommon_word=list()\n",
    "    \n",
    "    for i in String1_list:\n",
    "        if i not in String2_list:\n",
    "            uncommon_word.append(i)\n",
    "    for j in String2_list:\n",
    "        if j not in String1_list:\n",
    "            uncommon_word.append(j)\n",
    "            \n",
    "    return uncommon_word\n",
    "\n",
    "String1=input(\"Enter the string 1 \")\n",
    "String2=input(\"Enter the 2nd String \")\n",
    "uncommon_word=uncommon_words(String1,String2)\n",
    "print(\"The uncommon words in both the string are: \",uncommon_word)"
   ]
  },
  {
   "cell_type": "markdown",
   "id": "22db94ec",
   "metadata": {},
   "source": [
    "# 6.\tWrite a Python to find all duplicate characters in string?"
   ]
  },
  {
   "cell_type": "code",
   "execution_count": 23,
   "id": "5c8b971a",
   "metadata": {},
   "outputs": [
    {
     "name": "stdout",
     "output_type": "stream",
     "text": [
      "Enter the Stringrahulkumarsahu\n",
      "Duplicate characters and their count are \n",
      " {'h': 2, 'r': 2, 'u': 3, 'a': 3}\n"
     ]
    }
   ],
   "source": [
    "def duplicate_characters(char,String):\n",
    "    count=0\n",
    "    for i in String:\n",
    "        if i==char:\n",
    "            count+=1\n",
    "    return count\n",
    "\n",
    "String=input(\"Enter the String\")\n",
    "character_set=set(String)\n",
    "count=0\n",
    "duplicates_value=dict()\n",
    "for i in character_set:\n",
    "    count=duplicate_characters(i,String)\n",
    "    if(count>1):\n",
    "        duplicates_value[i]=count\n",
    "        \n",
    "print(\"Duplicate characters and their count are \\n\",duplicates_value)"
   ]
  },
  {
   "cell_type": "markdown",
   "id": "f67c342e",
   "metadata": {},
   "source": [
    "# 7.\tWrite a Python Program to check if a string contains any special character?"
   ]
  },
  {
   "cell_type": "code",
   "execution_count": 24,
   "id": "15732b9a",
   "metadata": {},
   "outputs": [
    {
     "name": "stdout",
     "output_type": "stream",
     "text": [
      "Enter the Stringsjiorgouibn#(dno$\n",
      "String contains following special character \n",
      " ['#', '(', '$']\n"
     ]
    }
   ],
   "source": [
    "def checkspecialcharacter(String):\n",
    "    special_list=list()\n",
    "    flag=0\n",
    "    for i in String:\n",
    "        if(ord(i)>=65 and ord(i)<=90) or (ord(i)>=97 and ord(i)<=122) or (ord(i)>=48 and ord(i)<=57):\n",
    "            pass\n",
    "        else:\n",
    "            special_list.append(i)\n",
    "            flag=1\n",
    "            \n",
    "    return special_list,flag\n",
    "\n",
    "String=input(\"Enter the String\")\n",
    "special_list,flag=checkspecialcharacter(String)\n",
    "\n",
    "if(flag==1):\n",
    "    print(\"String contains following special character \\n\",special_list)\n",
    "else:\n",
    "    print(\"Entered string doesnot contain\")\n",
    "    "
   ]
  },
  {
   "cell_type": "code",
   "execution_count": null,
   "id": "31baee2d",
   "metadata": {},
   "outputs": [],
   "source": []
  }
 ],
 "metadata": {
  "kernelspec": {
   "display_name": "Python 3 (ipykernel)",
   "language": "python",
   "name": "python3"
  },
  "language_info": {
   "codemirror_mode": {
    "name": "ipython",
    "version": 3
   },
   "file_extension": ".py",
   "mimetype": "text/x-python",
   "name": "python",
   "nbconvert_exporter": "python",
   "pygments_lexer": "ipython3",
   "version": "3.9.7"
  }
 },
 "nbformat": 4,
 "nbformat_minor": 5
}
